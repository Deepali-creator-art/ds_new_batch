{
 "cells": [
  {
   "cell_type": "code",
   "execution_count": 7,
   "metadata": {},
   "outputs": [
    {
     "name": "stdout",
     "output_type": "stream",
     "text": [
      "[34, 12, 78, 17, 19, 21, 23, 89]\n",
      "[17, 21]\n"
     ]
    }
   ],
   "source": [
    "#To find unique and duplicates elements from a given list.\n",
    "x=[12,17,19,21,17,78,23,21,89,34]\n",
    "s=set()\n",
    "duplicate_elements=[]\n",
    "for n in x:\n",
    "    if n in s:\n",
    "        duplicate_elements.append(n)\n",
    "    else:\n",
    "        s.add(n)\n",
    "print(list(s))\n",
    "print(duplicate_elements)   "
   ]
  },
  {
   "cell_type": "code",
   "execution_count": 35,
   "metadata": {},
   "outputs": [
    {
     "name": "stdout",
     "output_type": "stream",
     "text": [
      "Element 17 Index 1\n",
      "Element 21 Index 3\n",
      "Element 17 Index 4\n",
      "Element 21 Index 7\n",
      "[12, 19, 78, 23, 89, 34]\n",
      "[17, 21]\n"
     ]
    }
   ],
   "source": [
    "x=[12,17,19,21,17,78,23,21,89,34] \n",
    "u=[]\n",
    "d=[]\n",
    "for i,n in enumerate(x):\n",
    "    if x.count(n)>1:\n",
    "        print(\"Element\",n,\"Index\",i)\n",
    "        if n not in d:\n",
    "            d.append(n)\n",
    "            \n",
    "    else:\n",
    "        u.append(n)\n",
    "            \n",
    "print(u) \n",
    "print(d)      "
   ]
  },
  {
   "cell_type": "code",
   "execution_count": 29,
   "metadata": {},
   "outputs": [
    {
     "data": {
      "text/plain": [
       "(array([1, 4], dtype=int64),)"
      ]
     },
     "execution_count": 29,
     "metadata": {},
     "output_type": "execute_result"
    }
   ],
   "source": [
    "import numpy as np\n",
    "n1=np.array([12,17,19,21,17,78,23,21,89,34])\n",
    "np.where(n1==17)"
   ]
  },
  {
   "cell_type": "code",
   "execution_count": 36,
   "metadata": {},
   "outputs": [
    {
     "name": "stdout",
     "output_type": "stream",
     "text": [
      "1 1 1\n",
      "1 1 2\n",
      "1 1 3\n",
      "1 2 1\n",
      "1 2 2\n",
      "1 2 3\n",
      "1 3 1\n",
      "1 3 2\n",
      "1 3 3\n",
      "2 1 1\n",
      "2 1 2\n",
      "2 1 3\n",
      "2 2 1\n",
      "2 2 2\n",
      "2 2 3\n",
      "2 3 1\n",
      "2 3 2\n",
      "2 3 3\n",
      "3 1 1\n",
      "3 1 2\n",
      "3 1 3\n",
      "3 2 1\n",
      "3 2 2\n",
      "3 2 3\n",
      "3 3 1\n",
      "3 3 2\n",
      "3 3 3\n"
     ]
    }
   ],
   "source": [
    "#[1,2,3]=>[[1,1,1],[1,1,2],[1,1,3],[1,1,2],[1,1,3],[1,2,1],[1,2,2],[1,2,3],[2,1,1],[2,1,2],[2,1,3]]\n",
    "x=[1,2,3]\n",
    "for i in x:\n",
    "    for j in x:\n",
    "        for k in x:\n",
    "            print(i,j,k)"
   ]
  },
  {
   "cell_type": "code",
   "execution_count": null,
   "metadata": {},
   "outputs": [],
   "source": []
  }
 ],
 "metadata": {
  "kernelspec": {
   "display_name": "Python 3",
   "language": "python",
   "name": "python3"
  },
  "language_info": {
   "codemirror_mode": {
    "name": "ipython",
    "version": 3
   },
   "file_extension": ".py",
   "mimetype": "text/x-python",
   "name": "python",
   "nbconvert_exporter": "python",
   "pygments_lexer": "ipython3",
   "version": "3.12.5"
  }
 },
 "nbformat": 4,
 "nbformat_minor": 2
}
