{
 "cells": [
  {
   "cell_type": "code",
   "execution_count": 9,
   "metadata": {},
   "outputs": [
    {
     "name": "stdout",
     "output_type": "stream",
     "text": [
      "[[5.0, 5, 1], [3.3333333333333335, 10, 3], [3.0, 15, 5], [1.75, 7, 4], [8.0, 8, 1], [3.0, 9, 3], [2.0, 4, 2]]\n",
      "Sorted list is [[8.0, 8, 1], [5.0, 5, 1], [3.3333333333333335, 10, 3], [3.0, 15, 5], [3.0, 9, 3], [2.0, 4, 2], [1.75, 7, 4]]\n",
      "8.0 8 1\n",
      "5.0 5 1\n",
      "3.3333333333333335 10 3\n",
      "3.0 15 5\n",
      "3.0 9 3\n",
      "2.0 4 2\n",
      "1.75 7 4\n",
      "Selected objects [[8, 1], [5, 1], [10, 3], [15, 5], [9, 3], [4, 2]]\n",
      "Total profit 51\n"
     ]
    }
   ],
   "source": [
    "    \n",
    "def fractional_knapsack(objects,capacity):\n",
    "    fractional_value=[[i[0]/i[1],i[0],i[1]]  for i in objects] #profit/weight\n",
    "    print(fractional_value)\n",
    "    fractional_value.sort(reverse=True) #arrange list in descending order\n",
    "    print(\"Sorted list is\",fractional_value)\n",
    "    total_profit=0\n",
    "    selected_objects=[]\n",
    "    for f,p,w in fractional_value:\n",
    "        print(f,p,w)\n",
    "        if(capacity>=w):\n",
    "            capacity-=w #capacity=capacity-w\n",
    "            total_profit+=p #total_profit=total_profit+p\n",
    "            selected_objects.append([p,w])\n",
    "    return selected_objects,total_profit\n",
    "objects=[(5,1),(10,3),(15,5),(7,4),(8,1),(9,3),(4,2)]\n",
    "total_weight=15\n",
    "x,y=fractional_knapsack(objects,total_weight)\n",
    "print(\"Selected objects\",x)\n",
    "print(\"Total profit\",y)"
   ]
  },
  {
   "cell_type": "code",
   "execution_count": 13,
   "metadata": {},
   "outputs": [
    {
     "name": "stdout",
     "output_type": "stream",
     "text": [
      "[[125.0, 500, 4], [83.33333333333333, 250, 3], [150.0, 1500, 10], [133.33333333333334, 1600, 12], [133.33333333333334, 1200, 9], [133.33333333333334, 800, 6]]\n",
      "Sorted list is [[150.0, 1500, 10], [133.33333333333334, 1600, 12], [133.33333333333334, 1200, 9], [133.33333333333334, 800, 6], [125.0, 500, 4], [83.33333333333333, 250, 3]]\n",
      "Selected objects [[1500, 10], [1600, 12], [800, 6]]\n",
      "Total profit 3900\n",
      "Objects :1 Profit :1500   Days :10\n",
      "Objects :2 Profit :1600   Days :12\n",
      "Objects :3 Profit :800   Days :6\n"
     ]
    }
   ],
   "source": [
    "def fractional_knapsack(objects,capacity):\n",
    "    fractional_value=[[i[0]/i[1],i[0],i[1]]  for i in objects] #profit/weight\n",
    "    print(fractional_value)\n",
    "    fractional_value.sort(reverse=True) #arrange list in descending order\n",
    "    print(\"Sorted list is\",fractional_value)\n",
    "    total_profit=0\n",
    "    selected_objects=[]\n",
    "    for f,p,w in fractional_value:\n",
    "        #print(f,p,w)\n",
    "        if(capacity>=w):\n",
    "            capacity-=w #capacity=capacity-w\n",
    "            total_profit+=p #total_profit=total_profit+p\n",
    "            selected_objects.append([p,w])\n",
    "    return selected_objects,total_profit\n",
    "#within 30 days select projects which are having maximum profit\n",
    "projects=[(500,4),(250,3),(1500,10),(1600,12),(1200,9),(800,6)]\n",
    "total_days=30\n",
    "x,y=fractional_knapsack(projects,total_days)\n",
    "print(\"Selected objects\",x)\n",
    "print(\"Total profit\",y)\n",
    "for index,items in enumerate(x):\n",
    "    print(f\"Objects :{index+1} Profit :{items[0]}   Days :{items[1]}\")"
   ]
  },
  {
   "cell_type": "code",
   "execution_count": null,
   "metadata": {},
   "outputs": [],
   "source": []
  }
 ],
 "metadata": {
  "kernelspec": {
   "display_name": "Python 3",
   "language": "python",
   "name": "python3"
  },
  "language_info": {
   "codemirror_mode": {
    "name": "ipython",
    "version": 3
   },
   "file_extension": ".py",
   "mimetype": "text/x-python",
   "name": "python",
   "nbconvert_exporter": "python",
   "pygments_lexer": "ipython3",
   "version": "3.12.5"
  }
 },
 "nbformat": 4,
 "nbformat_minor": 2
}
