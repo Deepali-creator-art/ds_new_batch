{
 "cells": [
  {
   "cell_type": "code",
   "execution_count": 1,
   "metadata": {},
   "outputs": [
    {
     "name": "stdout",
     "output_type": "stream",
     "text": [
      "Iteration 1 result is [5, 9, 1, 4, 3]\n",
      "Iteration 2 result is [1, 5, 9, 4, 3]\n",
      "Iteration 3 result is [1, 4, 5, 9, 3]\n",
      "Iteration 4 result is [1, 3, 4, 5, 9]\n"
     ]
    },
    {
     "data": {
      "text/plain": [
       "[1, 3, 4, 5, 9]"
      ]
     },
     "execution_count": 1,
     "metadata": {},
     "output_type": "execute_result"
    }
   ],
   "source": [
    "def insertion_sort(array):\n",
    "    size=len(array)\n",
    "    for step in range(1,size): #0,1,2,3,4\n",
    "        key=array[step]\n",
    "        j=step-1\n",
    "        while(j>=0) and key<array[j]:\n",
    "            array[j+1]=array[j]\n",
    "            j=j-1\n",
    "        array[j+1]=key\n",
    "        print(\"Iteration\" ,step,\"result is\",array)\n",
    "    return array\n",
    "        \n",
    "data=[9,5,1,4,3]\n",
    "insertion_sort(data) #function call with parameter input as a list"
   ]
  }
 ],
 "metadata": {
  "kernelspec": {
   "display_name": "Python 3",
   "language": "python",
   "name": "python3"
  },
  "language_info": {
   "codemirror_mode": {
    "name": "ipython",
    "version": 3
   },
   "file_extension": ".py",
   "mimetype": "text/x-python",
   "name": "python",
   "nbconvert_exporter": "python",
   "pygments_lexer": "ipython3",
   "version": "3.12.4"
  }
 },
 "nbformat": 4,
 "nbformat_minor": 2
}
