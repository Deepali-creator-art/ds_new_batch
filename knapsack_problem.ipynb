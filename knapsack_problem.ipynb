{
 "cells": [
  {
   "cell_type": "code",
   "execution_count": 7,
   "metadata": {},
   "outputs": [
    {
     "ename": "TypeError",
     "evalue": "list indices must be integers or slices, not tuple",
     "output_type": "error",
     "traceback": [
      "\u001b[1;31m---------------------------------------------------------------------------\u001b[0m",
      "\u001b[1;31mTypeError\u001b[0m                                 Traceback (most recent call last)",
      "Cell \u001b[1;32mIn[7], line 19\u001b[0m\n\u001b[0;32m     17\u001b[0m w\u001b[38;5;241m=\u001b[39m[\u001b[38;5;241m3\u001b[39m,\u001b[38;5;241m4\u001b[39m,\u001b[38;5;241m5\u001b[39m,\u001b[38;5;241m6\u001b[39m] \u001b[38;5;66;03m#weight\u001b[39;00m\n\u001b[0;32m     18\u001b[0m C\u001b[38;5;241m=\u001b[39m\u001b[38;5;241m8\u001b[39m \u001b[38;5;66;03m#bag capacity\u001b[39;00m\n\u001b[1;32m---> 19\u001b[0m result\u001b[38;5;241m=\u001b[39m\u001b[43mknapsack\u001b[49m\u001b[43m(\u001b[49m\u001b[43mv\u001b[49m\u001b[43m,\u001b[49m\u001b[43mw\u001b[49m\u001b[43m,\u001b[49m\u001b[43mC\u001b[49m\u001b[43m)\u001b[49m\n\u001b[0;32m     20\u001b[0m \u001b[38;5;28mprint\u001b[39m(result)\n",
      "Cell \u001b[1;32mIn[7], line 6\u001b[0m, in \u001b[0;36mknapsack\u001b[1;34m(v, w, C)\u001b[0m\n\u001b[0;32m      4\u001b[0m m\u001b[38;5;241m=\u001b[39m[]\n\u001b[0;32m      5\u001b[0m \u001b[38;5;28;01mfor\u001b[39;00m c \u001b[38;5;129;01min\u001b[39;00m \u001b[38;5;28mrange\u001b[39m(C): \u001b[38;5;66;03m#columns 8 we set first row value is 0.\u001b[39;00m\n\u001b[1;32m----> 6\u001b[0m     \u001b[43mm\u001b[49m\u001b[43m[\u001b[49m\u001b[43m(\u001b[49m\u001b[38;5;241;43m0\u001b[39;49m\u001b[43m,\u001b[49m\u001b[43mc\u001b[49m\u001b[43m)\u001b[49m\u001b[43m]\u001b[49m\u001b[38;5;241m=\u001b[39m\u001b[38;5;241m0\u001b[39m\n\u001b[0;32m      7\u001b[0m \u001b[38;5;28;01mfor\u001b[39;00m i \u001b[38;5;129;01min\u001b[39;00m \u001b[38;5;28mrange\u001b[39m(\u001b[38;5;241m1\u001b[39m,N\u001b[38;5;241m+\u001b[39m\u001b[38;5;241m1\u001b[39m): \u001b[38;5;66;03m#1,2,3,4\u001b[39;00m\n\u001b[0;32m      8\u001b[0m     \u001b[38;5;28;01mfor\u001b[39;00m j \u001b[38;5;129;01min\u001b[39;00m \u001b[38;5;28mrange\u001b[39m(C\u001b[38;5;241m+\u001b[39m\u001b[38;5;241m1\u001b[39m):\u001b[38;5;66;03m#0,1,2,...8\u001b[39;00m\n",
      "\u001b[1;31mTypeError\u001b[0m: list indices must be integers or slices, not tuple"
     ]
    }
   ],
   "source": [
    "#Dynamic approach knapsack problem\n",
    "def knapsack(v,w,C):\n",
    "    N=len(v)   #total no items\n",
    "    m=[]\n",
    "    for c in range(C): #columns 8 we set first row value is 0.\n",
    "        m[(0,c)]=0\n",
    "    for i in range(1,N+1): #1,2,3,4\n",
    "        for j in range(C+1):#0,1,2,...8\n",
    "            if(w[i-1]<=c):\n",
    "                m[(i,c)]=max(m[(i-1,c)],(m[(i-1,c-w[i])]+v[i-1]))\n",
    "            else:\n",
    "                m[i,c]=m[(i-1,c)]\n",
    "                print(m[i,c])\n",
    "    return m        \n",
    "                \n",
    "v=[2,3,4,1] #profit\n",
    "w=[3,4,5,6] #weight\n",
    "C=8 #bag capacity\n",
    "result=knapsack(v,w,C)\n",
    "print(result)"
   ]
  },
  {
   "cell_type": "code",
   "execution_count": 8,
   "metadata": {},
   "outputs": [
    {
     "name": "stdout",
     "output_type": "stream",
     "text": [
      "0\n",
      "0\n",
      "0\n",
      "0\n",
      "0\n",
      "0\n",
      "2\n",
      "0\n",
      "0\n",
      "0\n",
      "2\n",
      "3\n",
      "0\n",
      "0\n",
      "0\n",
      "2\n",
      "3\n",
      "4\n",
      "{(0, 0): 0, (0, 1): 0, (0, 2): 0, (0, 3): 0, (0, 4): 0, (0, 5): 0, (0, 6): 0, (0, 7): 0, (0, 8): 0, (1, 0): 0, (1, 1): 0, (1, 2): 0, (1, 3): 2, (1, 4): 2, (1, 5): 2, (1, 6): 2, (1, 7): 2, (1, 8): 2, (2, 0): 0, (2, 1): 0, (2, 2): 0, (2, 3): 2, (2, 4): 3, (2, 5): 3, (2, 6): 3, (2, 7): 5, (2, 8): 5, (3, 0): 0, (3, 1): 0, (3, 2): 0, (3, 3): 2, (3, 4): 3, (3, 5): 4, (3, 6): 4, (3, 7): 5, (3, 8): 6, (4, 0): 0, (4, 1): 0, (4, 2): 0, (4, 3): 2, (4, 4): 3, (4, 5): 4, (4, 6): 4, (4, 7): 5, (4, 8): 6}\n"
     ]
    }
   ],
   "source": [
    "def knapsack(v,w,c):\n",
    "    N=len(v)\n",
    "    m={}\n",
    "    for c in range(C+1):\n",
    "        m[(0,c)]=0\n",
    "    \n",
    "    for i in range(1,N+1):\n",
    "        for c in range(C+1):\n",
    "            \n",
    "            if w[i-1]<=c:\n",
    "                \n",
    "                m[(i,c)]=max(m[(i-1,c)],v[i-1]+m[(i-1,c-w[i-1])])\n",
    "                \n",
    "            else:\n",
    "                m[(i,c)]=m[(i-1,c)]\n",
    "                print(m[i,c])\n",
    "    print(m)\n",
    "        \n",
    "    return m[(N,C)]\n",
    "v=[2,3,4,1] #profit\n",
    "w=[3,4,5,6]\n",
    "C=8\n",
    "result=knapsack(v,w,C)"
   ]
  }
 ],
 "metadata": {
  "kernelspec": {
   "display_name": "Python 3",
   "language": "python",
   "name": "python3"
  },
  "language_info": {
   "codemirror_mode": {
    "name": "ipython",
    "version": 3
   },
   "file_extension": ".py",
   "mimetype": "text/x-python",
   "name": "python",
   "nbconvert_exporter": "python",
   "pygments_lexer": "ipython3",
   "version": "3.12.5"
  }
 },
 "nbformat": 4,
 "nbformat_minor": 2
}
