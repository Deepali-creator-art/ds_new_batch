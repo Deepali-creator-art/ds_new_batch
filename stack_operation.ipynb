{
 "cells": [
  {
   "cell_type": "code",
   "execution_count": 1,
   "metadata": {},
   "outputs": [
    {
     "name": "stdout",
     "output_type": "stream",
     "text": [
      "<class 'structlinks.DataStructures.Stack.Stack.Stack'>\n",
      "Stack is empty  True\n",
      "|____________________|\n",
      "------******-----------\n",
      "After adding an element....\n",
      "|          Deepak    | \n",
      "|          Deepali   | \n",
      "|          Archit    | \n",
      "|          Ashutosh  | \n",
      "|          Harshal   | \n",
      "|____________________|\n",
      "After invert function\n",
      "|          Harshal   | \n",
      "|          Ashutosh  | \n",
      "|          Archit    | \n",
      "|          Deepali   | \n",
      "|          Deepak    | \n",
      "|____________________|\n",
      "After a pop function\n",
      "|          Ashutosh  | \n",
      "|          Archit    | \n",
      "|          Deepali   | \n",
      "|          Deepak    | \n",
      "|____________________|\n",
      "Size of stack is 4\n",
      "|          Arya      | \n",
      "|          Ashutosh  | \n",
      "|          Archit    | \n",
      "|          Deepali   | \n",
      "|          Deepak    | \n",
      "|____________________|\n",
      "['Deepak', 'Deepali', 'Archit', 'Ashutosh', 'Arya']\n",
      "<class 'list'>\n",
      "<class 'list'>\n",
      "|          ARYA      | \n",
      "|          ASHUTOSH  | \n",
      "|          ARCHIT    | \n",
      "|          DEEPALI   | \n",
      "|          DEEPAK    | \n",
      "|____________________|\n"
     ]
    }
   ],
   "source": [
    "from structlinks.DataStructures import Stack \n",
    "s1=Stack.Stack()\n",
    "print(type(s1))\n",
    "print(\"Stack is empty \",s1.is_empty())\n",
    "print(s1)\n",
    "print(\"------******-----------\")\n",
    "print(\"After adding an element....\")\n",
    "s1.push('Harshal')\n",
    "s1.push('Ashutosh')\n",
    "s1.push('Archit')\n",
    "s1.push_multiple(['Deepali','Deepak'])\n",
    "\n",
    "print(s1)\n",
    "s1.invert()\n",
    "print(\"After invert function\")\n",
    "print(s1)\n",
    "print(\"After a pop function\")\n",
    "s1.pop()\n",
    "print(s1)\n",
    "print(\"Size of stack is\",s1.__len__())\n",
    "s1.push('Arya')\n",
    "print(s1)\n",
    "print(s1.items)\n",
    "item_list=s1.items\n",
    "print(type(item_list))\n",
    "list_s1=s1.to_list()\n",
    "print(type(list_s1))\n",
    "print(s1.map(lambda x:x.upper()))\n",
    "\n",
    "\n"
   ]
  },
  {
   "cell_type": "code",
   "execution_count": 11,
   "metadata": {},
   "outputs": [
    {
     "name": "stdout",
     "output_type": "stream",
     "text": [
      "|          Xyz       | \n",
      "|          Pqrs      | \n",
      "|          Abcd      | \n",
      "|____________________|\n",
      "|          Xyz       | \n",
      "|          Pqrs      | \n",
      "|          Abcd      | \n",
      "|          Xyz       | \n",
      "|          Pqrs      | \n",
      "|          Abcd      | \n",
      "|          Arya      | \n",
      "|          Ashutosh  | \n",
      "|          Archit    | \n",
      "|          Deepali   | \n",
      "|          Deepak    | \n",
      "|____________________|\n"
     ]
    }
   ],
   "source": [
    "s2=Stack.Stack()\n",
    "s2.push_multiple(['Abcd','Pqrs','Xyz'])\n",
    "print(s2)\n",
    "s1.extend(s2)\n",
    "print(s1)"
   ]
  },
  {
   "cell_type": "code",
   "execution_count": 7,
   "metadata": {},
   "outputs": [
    {
     "name": "stdout",
     "output_type": "stream",
     "text": [
      "[10, 20, 30]\n"
     ]
    }
   ],
   "source": [
    "x=[10,20]\n",
    "x.append(30)\n",
    "print(x)"
   ]
  },
  {
   "cell_type": "code",
   "execution_count": 17,
   "metadata": {},
   "outputs": [
    {
     "name": "stdout",
     "output_type": "stream",
     "text": [
      "ASHUTOSH\n",
      "Ashutosh\n"
     ]
    }
   ],
   "source": [
    "name='Ashutosh'\n",
    "print(name.upper())\n",
    "print(name)"
   ]
  },
  {
   "cell_type": "code",
   "execution_count": 14,
   "metadata": {},
   "outputs": [
    {
     "name": "stdout",
     "output_type": "stream",
     "text": [
      "|          Xyz       | \n",
      "|          Pqrs      | \n",
      "|          Abcd      | \n",
      "|          Xyz       | \n",
      "|          Pqrs      | \n",
      "|          Abcd      | \n",
      "|          Arya      | \n",
      "|          Ashutosh  | \n",
      "|          Archit    | \n",
      "|          Deepali   | \n",
      "|          Deepak    | \n",
      "|____________________|\n",
      "|          Xyz       | \n",
      "|          Pqrs      | \n",
      "|          Abcd      | \n",
      "|          Xyz       | \n",
      "|          Pqrs      | \n",
      "|          Abcd      | \n",
      "|          Arya      | \n",
      "|          Ashutosh  | \n",
      "|          Archit    | \n",
      "|          Deepali   | \n",
      "|          Deepak    | \n",
      "|____________________|\n",
      "|          python    | \n",
      "|          Xyz       | \n",
      "|          Pqrs      | \n",
      "|          Abcd      | \n",
      "|          Xyz       | \n",
      "|          Pqrs      | \n",
      "|          Abcd      | \n",
      "|          Arya      | \n",
      "|          Ashutosh  | \n",
      "|          Archit    | \n",
      "|          Deepali   | \n",
      "|          Deepak    | \n",
      "|____________________|\n",
      "|          python    | \n",
      "|          Xyz       | \n",
      "|          Pqrs      | \n",
      "|          Abcd      | \n",
      "|          Xyz       | \n",
      "|          Pqrs      | \n",
      "|          Abcd      | \n",
      "|          Arya      | \n",
      "|          Ashutosh  | \n",
      "|          Archit    | \n",
      "|          Deepali   | \n",
      "|          Deepak    | \n",
      "|____________________|\n"
     ]
    }
   ],
   "source": [
    "s3=s1.copy()\n",
    "print(s3)\n",
    "print(s1)\n",
    "s1.push('python')\n",
    "print(s1)\n",
    "print(s3)"
   ]
  },
  {
   "cell_type": "code",
   "execution_count": 11,
   "metadata": {},
   "outputs": [
    {
     "name": "stdout",
     "output_type": "stream",
     "text": [
      "<class 'collections.deque'>\n",
      "deque([])\n",
      "deque([10])\n",
      "deque([10, 20, 30, 40, 50, 60, 70])\n",
      "deque([10, 20, 30, 40, 50, 60])\n",
      "deque([60, 50, 40, 30, 20, 10])\n",
      "deque([10, 60, 50, 40, 30, 20])\n"
     ]
    }
   ],
   "source": [
    "from queue import deque \n",
    "#create an object of deque() class\n",
    "d1=deque() \n",
    "print(type(d1))\n",
    "print(d1)\n",
    "#stack function push=>append function in deque\n",
    "d1.append(10)\n",
    "print(d1)\n",
    "d1.extend([20,30,40,50,60,70])\n",
    "print(d1)\n",
    "#stack pop=>pop function in deque\n",
    "d1.pop()\n",
    "print(d1)\n",
    "d1.reverse()\n",
    "print(d1)\n",
    "d1.rotate()\n",
    "print(d1)"
   ]
  },
  {
   "cell_type": "code",
   "execution_count": 2,
   "metadata": {},
   "outputs": [
    {
     "name": "stdout",
     "output_type": "stream",
     "text": [
      "<class 'queue.LifoQueue'>\n",
      "<queue.LifoQueue object at 0x0000017AF0ACCB30>\n",
      "<queue.LifoQueue object at 0x0000017AF0ACCB30>\n",
      "<queue.LifoQueue object at 0x0000017AF0ACCB30>\n",
      "orange\n",
      "2\n",
      "False\n",
      "False\n",
      "True\n",
      "False\n"
     ]
    }
   ],
   "source": [
    "from queue import LifoQueue \n",
    "#create an object of LifoQueue library\n",
    "q1=LifoQueue(maxsize=5)\n",
    "print(type(q1))\n",
    "print(q1)\n",
    "# stack push operation=>put function in LifoQueue \n",
    "q1.put('apple')\n",
    "print(q1)\n",
    "q1.put('banana')\n",
    "q1.put('orange')\n",
    "print(q1)\n",
    "#stack pop operation=>get function in LifoQueue\n",
    "print(q1.get())\n",
    "print(q1.qsize())\n",
    "print(q1.empty())\n",
    "print(q1.full())\n",
    "q1.put('Orange')\n",
    "q1.put('Graphes')\n",
    "q1.put('pineapple')\n",
    "print(q1.full())\n",
    "print(q1.empty())\n",
    "#q1.put_nowait('sitaphal')\n"
   ]
  },
  {
   "cell_type": "code",
   "execution_count": 3,
   "metadata": {},
   "outputs": [
    {
     "name": "stdout",
     "output_type": "stream",
     "text": [
      "[111, 222, 333, 444]\n"
     ]
    }
   ],
   "source": [
    "stack=[]\n",
    "stack.append(111)\n",
    "stack.extend([222,333,444,555])\n",
    "stack.pop()\n",
    "print(stack)"
   ]
  }
 ],
 "metadata": {
  "kernelspec": {
   "display_name": "Python 3",
   "language": "python",
   "name": "python3"
  },
  "language_info": {
   "codemirror_mode": {
    "name": "ipython",
    "version": 3
   },
   "file_extension": ".py",
   "mimetype": "text/x-python",
   "name": "python",
   "nbconvert_exporter": "python",
   "pygments_lexer": "ipython3",
   "version": "3.12.5"
  }
 },
 "nbformat": 4,
 "nbformat_minor": 2
}
