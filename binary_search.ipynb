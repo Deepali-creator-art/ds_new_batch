{
 "cells": [
  {
   "cell_type": "code",
   "execution_count": 16,
   "metadata": {},
   "outputs": [
    {
     "name": "stdout",
     "output_type": "stream",
     "text": [
      "Sorted array is [12, 23, 27, 28, 34, 56, 56, 67, 78, 89, 90]\n",
      "Search element 27 is found\n",
      "Total time execution is 0.5375999899115413\n"
     ]
    }
   ],
   "source": [
    "from timeit import default_timer as tm\n",
    "#Function definition\n",
    "def binary_search(arrays,search_element):\n",
    "    size=len(arrays)\n",
    "    low=0\n",
    "    high=size-1\n",
    "    while(low<high):\n",
    "        middle_index=(low+high)//2\n",
    "        if(search_element<arrays[middle_index]):\n",
    "            high=middle_index-1\n",
    "        elif(search_element>arrays[middle_index]):\n",
    "            low=middle_index+1\n",
    "        elif(search_element==arrays[middle_index]):\n",
    "            print(\"Search element\",search_element,\"is found\")\n",
    "            break\n",
    "    else:\n",
    "        print(\"Search element\",search_element,\"is not found\")\n",
    "#input parameter\n",
    "items=[23,12,67,89,56,90,28,56,78,34,27]\n",
    "items.sort() #to sort an element an ascending order\n",
    "print(\"Sorted array is\",items)\n",
    "key=int(input(\"Enter the element\"))\n",
    "start_timer=tm()\n",
    "binary_search(items,key) #function call\n",
    "stop_timer=tm()\n",
    "print(\"Total time execution is\",(stop_timer-start_timer)*1000)\n",
    " "
   ]
  },
  {
   "cell_type": "code",
   "execution_count": 15,
   "metadata": {},
   "outputs": [
    {
     "name": "stdout",
     "output_type": "stream",
     "text": [
      "Search element  27 present in list\n",
      "Total time execution is 0.15609999536536634\n"
     ]
    }
   ],
   "source": [
    "from timeit import default_timer as tm\n",
    "def linear_search(arrays,search_element):\n",
    "    #count the elements of a list\n",
    "    size=len(arrays)\n",
    "    for i in range(size):\n",
    "        if(arrays[i]==search_element):\n",
    "            print(\"Search element \",search_element,\"present in list\")\n",
    "            break\n",
    "    else:\n",
    "        print(\"Search element \",search_element,\"is not present in list\")  \n",
    "items=[23,12,67,89,56,90,28,56,78,34,27]\n",
    "target_value=int(input(\"Enter the search element\"))\n",
    "start_timer=tm()\n",
    "linear_search(items,target_value) #function call\n",
    "stop_timer=tm()\n",
    "print(\"Total time execution is\",(stop_timer-start_timer)*1000)"
   ]
  },
  {
   "cell_type": "code",
   "execution_count": 17,
   "metadata": {},
   "outputs": [
    {
     "name": "stdout",
     "output_type": "stream",
     "text": [
      "Search element pratiksha is present in the list at indices: [1, 3]\n",
      "Total time execution is 0.49760000547394156\n"
     ]
    }
   ],
   "source": [
    "from timeit import default_timer as tm\n",
    "def linear_search(arrays, search_element):\n",
    "    # Count the elements of a list\n",
    "    found_indices = []  # List to store the indices where the element is found\n",
    "    \n",
    "    for i in range(len(arrays)):\n",
    "        if arrays[i] == search_element:\n",
    "            found_indices.append(i)  # Add the index to the list\n",
    "            \n",
    "    if found_indices:\n",
    "        print(\"Search element\", search_element, \"is present in the list at indices:\", found_indices)\n",
    "    else:\n",
    "        print(\"Search element\", search_element, \"is not present in the list\")\n",
    "\n",
    "items = ['pratham', 'pratiksha', 'sarvesh', 'pratiksha']\n",
    "target_value = input(\"Enter the search element: \")  # Input as string\n",
    "start_timer=tm()\n",
    "linear_search(items, target_value)  # Function call\n",
    "stop_timer=tm()\n",
    "print(\"Total time execution is\",(stop_timer-start_timer)*1000)"
   ]
  },
  {
   "cell_type": "code",
   "execution_count": 50,
   "metadata": {},
   "outputs": [
    {
     "name": "stdout",
     "output_type": "stream",
     "text": [
      "Sorted array is: ['pratham', 'pratiksha', 'pratiksha', 'sarvesh']\n",
      "Indices where the element is found: [1, 2]\n",
      "Time taken: 0.12250000145286322\n"
     ]
    }
   ],
   "source": [
    "from timeit import default_timer as tm\n",
    "\n",
    "# Function to find all indices of a search element in a sorted list\n",
    "def binary_search(arrays, search_element):\n",
    "    size = len(arrays)\n",
    "    low = 0\n",
    "    high = size - 1\n",
    "    \n",
    "    # List to store all found indices\n",
    "    found_indices = []\n",
    "    \n",
    "    # Step 1: Find an occurrence of the search element\n",
    "    while low <= high:\n",
    "        middle_index = (low + high) // 2\n",
    "        if search_element < arrays[middle_index]:\n",
    "            high = middle_index - 1\n",
    "        elif search_element > arrays[middle_index]:\n",
    "            low = middle_index + 1\n",
    "        else:\n",
    "            # Found an occurrence; add it to the list\n",
    "            found_indices.append(middle_index)\n",
    "            \n",
    "            # Expand to the left\n",
    "            left = middle_index - 1\n",
    "            while left >= 0 and arrays[left] == search_element:\n",
    "                found_indices.append(left)\n",
    "                left -= 1\n",
    "            \n",
    "            # Expand to the right\n",
    "            right = middle_index + 1\n",
    "            while right < size and arrays[right] == search_element:\n",
    "                found_indices.append(right)\n",
    "                right += 1\n",
    "            \n",
    "            # Since we found the element and have checked all positions,\n",
    "            # we can break out of the loop.\n",
    "            break\n",
    "    \n",
    "    # Sort the found indices to return in ascending order\n",
    "    found_indices.sort()\n",
    "    \n",
    "    return found_indices\n",
    "\n",
    "# Input parameter\n",
    "items = ['pratham', 'pratiksha', 'sarvesh', 'pratiksha']\n",
    "items.sort()  # Sort the list in ascending order\n",
    "print(\"Sorted array is:\", items)\n",
    "key = input(\"Enter the element: \")\n",
    "start_timer = tm()\n",
    "indices = binary_search(items, key)  # Function call\n",
    "end_timer = tm()\n",
    "print(f\"Indices where the element is found: {indices}\")\n",
    "print(\"Time taken:\",(end_timer-start_timer)*1000)\n"
   ]
  }
 ],
 "metadata": {
  "kernelspec": {
   "display_name": "Python 3",
   "language": "python",
   "name": "python3"
  },
  "language_info": {
   "codemirror_mode": {
    "name": "ipython",
    "version": 3
   },
   "file_extension": ".py",
   "mimetype": "text/x-python",
   "name": "python",
   "nbconvert_exporter": "python",
   "pygments_lexer": "ipython3",
   "version": "3.12.4"
  }
 },
 "nbformat": 4,
 "nbformat_minor": 2
}
