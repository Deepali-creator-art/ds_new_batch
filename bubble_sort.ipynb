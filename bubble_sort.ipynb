{
 "cells": [
  {
   "cell_type": "markdown",
   "metadata": {},
   "source": [
    "Write a function with array\n",
    "bubble_sort(array)\n",
    "  for i-->to sizeofarray-1 #individual array elements\n",
    "     for j--> 1 to sizeofarray-i-1 #passes\n",
    "        if leftelement>rightelement\n",
    "            swap leftelement and rightelement"
   ]
  },
  {
   "cell_type": "code",
   "execution_count": 20,
   "metadata": {},
   "outputs": [
    {
     "name": "stdout",
     "output_type": "stream",
     "text": [
      "Every passes 3 result is [13, 26, 32, 10, 35]\n",
      "Every passes 2 result is [13, 26, 10, 32, 35]\n",
      "Every passes 1 result is [13, 10, 26, 32, 35]\n",
      "Every passes 0 result is [10, 13, 26, 32, 35]\n",
      "Every passes 0 result is [10, 13, 26, 32, 35]\n",
      "Sorting array is [10, 13, 26, 32, 35]\n"
     ]
    }
   ],
   "source": [
    "def bubble_sort(array):\n",
    "    #outer loop to access each array element\n",
    "    for i in range(len(array)): #n times\n",
    "        #inner loop to compare array elements(passes) #n-1=>n**2-1\n",
    "        for j in range(0,len(array)-i-1):\n",
    "            #compare two adjacent elements\n",
    "            if array[j]>array[j+1]:\n",
    "                temp=array[j]\n",
    "                array[j]=array[j+1]\n",
    "                array[j+1]=temp\n",
    "        print(f\"Every passes {j} result is\",data)                     \n",
    "data=[13,32,26,35,10]\n",
    "bubble_sort(data) #function call\n",
    "print(\"Sorting array is\",data)"
   ]
  },
  {
   "cell_type": "code",
   "execution_count": 4,
   "metadata": {},
   "outputs": [
    {
     "name": "stdout",
     "output_type": "stream",
     "text": [
      "10 20\n"
     ]
    }
   ],
   "source": [
    "i=20\n",
    "j=10\n",
    "temp=i\n",
    "i=j\n",
    "j=temp\n",
    "print(i,j)\n"
   ]
  },
  {
   "cell_type": "code",
   "execution_count": 11,
   "metadata": {},
   "outputs": [
    {
     "name": "stdout",
     "output_type": "stream",
     "text": [
      "Harshal Ashutosh\n"
     ]
    }
   ],
   "source": [
    "x='Ashutosh'\n",
    "y='Harshal'\n",
    "temp=x\n",
    "x=y\n",
    "y=temp\n",
    "print(x,y)"
   ]
  },
  {
   "cell_type": "markdown",
   "metadata": {},
   "source": [
    "Best case complexity =>(O(n))=>no swapping=>already sorted array\n",
    "Worst case complexity=>(O(n**2))=>array in descending order=>ascending order\n",
    "Average case complexity=>(O(n**2))=>array in jumbled order\n",
    "\n",
    "Memory space complexity => temp variable is used for swapping O(1)\n"
   ]
  },
  {
   "cell_type": "markdown",
   "metadata": {},
   "source": []
  }
 ],
 "metadata": {
  "kernelspec": {
   "display_name": "Python 3",
   "language": "python",
   "name": "python3"
  },
  "language_info": {
   "codemirror_mode": {
    "name": "ipython",
    "version": 3
   },
   "file_extension": ".py",
   "mimetype": "text/x-python",
   "name": "python",
   "nbconvert_exporter": "python",
   "pygments_lexer": "ipython3",
   "version": "3.12.5"
  }
 },
 "nbformat": 4,
 "nbformat_minor": 2
}
