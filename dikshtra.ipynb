{
 "cells": [
  {
   "cell_type": "code",
   "execution_count": 1,
   "metadata": {},
   "outputs": [
    {
     "name": "stdout",
     "output_type": "stream",
     "text": [
      "{'Wakad': inf, 'Aundh': inf, 'Chinchwad': inf, 'Baner': inf, 'Shivaji Nagar': inf}\n",
      "{'Wakad': 0, 'Aundh': inf, 'Chinchwad': inf, 'Baner': inf, 'Shivaji Nagar': inf}\n",
      "After calculating distance from Wakad to other node\n",
      "{'Wakad': 0, 'Aundh': 10, 'Chinchwad': inf, 'Baner': 30, 'Shivaji Nagar': 100}\n",
      "Update queue\n",
      "\n",
      "[(10, 'Aundh'), (30, 'Baner'), (100, 'Shivaji Nagar')]\n",
      "After calculating distance from Aundh to other node\n",
      "{'Wakad': 0, 'Aundh': 10, 'Chinchwad': 60, 'Baner': 30, 'Shivaji Nagar': 100}\n",
      "Update queue\n",
      "\n",
      "[(30, 'Baner'), (100, 'Shivaji Nagar'), (60, 'Chinchwad')]\n",
      "After calculating distance from Baner to other node\n",
      "{'Wakad': 0, 'Aundh': 10, 'Chinchwad': 50, 'Baner': 30, 'Shivaji Nagar': 90}\n",
      "Update queue\n",
      "\n",
      "[(50, 'Chinchwad'), (60, 'Chinchwad'), (90, 'Shivaji Nagar'), (100, 'Shivaji Nagar')]\n",
      "After calculating distance from Chinchwad to other node\n",
      "{'Wakad': 0, 'Aundh': 10, 'Chinchwad': 50, 'Baner': 30, 'Shivaji Nagar': 60}\n",
      "Update queue\n",
      "\n",
      "[(60, 'Chinchwad'), (60, 'Shivaji Nagar'), (90, 'Shivaji Nagar'), (100, 'Shivaji Nagar')]\n",
      "After calculating distance from Shivaji Nagar to other node\n",
      "{'Wakad': 0, 'Aundh': 10, 'Chinchwad': 50, 'Baner': 30, 'Shivaji Nagar': 60}\n",
      "Update queue\n",
      "\n",
      "[(90, 'Shivaji Nagar'), (100, 'Shivaji Nagar')]\n"
     ]
    },
    {
     "data": {
      "text/plain": [
       "{'Wakad': 0, 'Aundh': 10, 'Chinchwad': 50, 'Baner': 30, 'Shivaji Nagar': 60}"
      ]
     },
     "execution_count": 1,
     "metadata": {},
     "output_type": "execute_result"
    }
   ],
   "source": [
    "import heapq\n",
    "\n",
    "\n",
    "def dijkshtra(dist,s):\n",
    "    #dict comprehension\n",
    "    d1={i:float('infinity') for i in dist} #create dictionary\n",
    "    print(d1)\n",
    "    d1[s]=0\n",
    "    print(d1)\n",
    "\n",
    "    q1=[(0,s)] #create list within tuple having two values one values distance,start node\n",
    "\n",
    "    while q1:\n",
    "        current_distance,current_node=heapq.heappop(q1)\n",
    "        #print(current_distance,current_node)\n",
    "        if current_distance > d1[current_node]:\n",
    "            continue\n",
    "        #print(dist[current_node])\n",
    "\n",
    "        for neighbor, d in dist[current_node].items():\n",
    "            new_distance=current_distance + d\n",
    "            if new_distance < d1[neighbor]:\n",
    "                d1[neighbor] = new_distance\n",
    "          \n",
    "                heapq.heappush(q1,(new_distance, neighbor))\n",
    "        print(f\"After calculating distance from {current_node} to other node\")\n",
    "        print(d1)\n",
    "        print(\"Update queue\\n\")\n",
    "        print(q1)\n",
    "    return d1\n",
    "\n",
    "#graph as an input\n",
    "distances = {'Wakad':{'Aundh':10, 'Baner': 30, 'Shivaji Nagar': 100},\n",
    "             'Aundh':{'Chinchwad':50},\n",
    "             'Chinchwad':{'Shivaji Nagar': 10},\n",
    "             'Baner':{'Shivaji Nagar':60, 'Chinchwad':20},\n",
    "             'Shivaji Nagar':{}\n",
    "            }\n",
    "\n",
    "start='Wakad'\n",
    "\n",
    "\n",
    "dijkshtra(distances, start) #function called"
   ]
  },
  {
   "cell_type": "code",
   "execution_count": 1,
   "metadata": {},
   "outputs": [
    {
     "name": "stdout",
     "output_type": "stream",
     "text": [
      "A\n",
      "B\n",
      "C\n",
      "D\n",
      "E\n"
     ]
    }
   ],
   "source": [
    "d1={'A':0,'B':10,'C':20,'D':40,'E':50}\n",
    "for i in d1:\n",
    "    print(i)"
   ]
  },
  {
   "cell_type": "code",
   "execution_count": 14,
   "metadata": {},
   "outputs": [
    {
     "data": {
      "text/plain": [
       "dict_items([('A', 0), ('B', 10), ('C', 20), ('D', 40), ('E', 50)])"
      ]
     },
     "execution_count": 14,
     "metadata": {},
     "output_type": "execute_result"
    }
   ],
   "source": [
    "d1={'A':0,'B':10,'C':20,'D':40,'E':50}\n",
    "d1.items()"
   ]
  },
  {
   "cell_type": "code",
   "execution_count": 18,
   "metadata": {},
   "outputs": [
    {
     "name": "stdout",
     "output_type": "stream",
     "text": [
      "[('h', 20), ('p', 20), ('q', 20), ('r', 20)]\n",
      "('h', 20)\n",
      "[('p', 20), ('r', 20), ('q', 20)]\n"
     ]
    }
   ],
   "source": [
    "import heapq\n",
    "g=[]\n",
    "heapq.heappush(g,('h',20))\n",
    "heapq.heappush(g,('p',20))\n",
    "heapq.heappush(g,('q',20))\n",
    "heapq.heappush(g,('r',20))\n",
    "print(g)\n",
    "print(heapq.heappop(g))\n",
    "print(g)\n",
    "\n"
   ]
  },
  {
   "cell_type": "code",
   "execution_count": 19,
   "metadata": {},
   "outputs": [
    {
     "name": "stdout",
     "output_type": "stream",
     "text": [
      "[('B', 10), ('C', 50), ('D', 60), ('E', 100)]\n",
      "('B', 10)\n",
      "[('C', 50), ('E', 100), ('D', 60)]\n"
     ]
    }
   ],
   "source": [
    "import heapq\n",
    "h=[]\n",
    "#heappush is used to insert element into a queue\n",
    "heapq.heappush(h,('B',10)) \n",
    "heapq.heappush(h,('C',50))\n",
    "heapq.heappush(h,('D',60))\n",
    "heapq.heappush(h,('E',100))\n",
    "print(h)\n",
    "#heappop() is used to remove first element of list and stored value into another object.\n",
    "h1=heapq.heappop(h)\n",
    "print(h1)\n",
    "print(h)\n",
    "\n"
   ]
  },
  {
   "cell_type": "code",
   "execution_count": 15,
   "metadata": {},
   "outputs": [
    {
     "name": "stdout",
     "output_type": "stream",
     "text": [
      "{'Wakad': inf, 'Aundh': inf, 'Chinchwad': inf, 'Baner': inf, 'Shivaji Nagar': inf}\n",
      "{'Wakad': 0, 'Aundh': inf, 'Chinchwad': inf, 'Baner': inf, 'Shivaji Nagar': inf}\n",
      "After calculating distance from Wakad to other node\n",
      "{'Wakad': 0, 'Aundh': 10, 'Chinchwad': inf, 'Baner': 30, 'Shivaji Nagar': 100}\n",
      "Update queue\n",
      "\n",
      "[(10, 'Aundh'), (30, 'Baner'), (100, 'Shivaji Nagar')]\n",
      "After calculating distance from Aundh to other node\n",
      "{'Wakad': 0, 'Aundh': 10, 'Chinchwad': 60, 'Baner': 30, 'Shivaji Nagar': 100}\n",
      "Update queue\n",
      "\n",
      "[(30, 'Baner'), (100, 'Shivaji Nagar'), (60, 'Chinchwad')]\n",
      "After calculating distance from Baner to other node\n",
      "{'Wakad': 0, 'Aundh': 10, 'Chinchwad': 50, 'Baner': 30, 'Shivaji Nagar': 90}\n",
      "Update queue\n",
      "\n",
      "[(50, 'Chinchwad'), (60, 'Chinchwad'), (90, 'Shivaji Nagar'), (100, 'Shivaji Nagar')]\n",
      "After calculating distance from Chinchwad to other node\n",
      "{'Wakad': 0, 'Aundh': 10, 'Chinchwad': 50, 'Baner': 30, 'Shivaji Nagar': 60}\n",
      "Update queue\n",
      "\n",
      "[(60, 'Chinchwad'), (60, 'Shivaji Nagar'), (90, 'Shivaji Nagar'), (100, 'Shivaji Nagar')]\n",
      "After calculating distance from Shivaji Nagar to other node\n",
      "{'Wakad': 0, 'Aundh': 10, 'Chinchwad': 50, 'Baner': 30, 'Shivaji Nagar': 60}\n",
      "Update queue\n",
      "\n",
      "[(90, 'Shivaji Nagar'), (100, 'Shivaji Nagar')]\n"
     ]
    },
    {
     "data": {
      "text/plain": [
       "{'Wakad': 0, 'Aundh': 10, 'Chinchwad': 50, 'Baner': 30, 'Shivaji Nagar': 60}"
      ]
     },
     "execution_count": 15,
     "metadata": {},
     "output_type": "execute_result"
    }
   ],
   "source": [
    "\n",
    "import heapq\n",
    "def dijkshtra(dist,s):\n",
    "    #dict comprehension\n",
    "    d1={i:float('infinity') for i in dist} #create dictionary\n",
    "    print(d1)\n",
    "    d1[s]=0\n",
    "    print(d1)\n",
    "\n",
    "    q1=[(0,s)] #create list within tuple having two values one values distance,start node\n",
    "    while q1:\n",
    "        current_distance,current_node=heapq.heappop(q1)\n",
    "        #print(current_distance,current_node)\n",
    "        if current_distance > d1[current_node]:\n",
    "            continue\n",
    "        #print(dist[current_node])\n",
    "\n",
    "        for neighbor, d in dist[current_node].items():\n",
    "            new_distance=current_distance + d\n",
    "            if new_distance < d1[neighbor]:\n",
    "                d1[neighbor] = new_distance\n",
    "          \n",
    "                heapq.heappush(q1,(new_distance, neighbor))\n",
    "        print(f\"After calculating distance from {current_node} to other node\")\n",
    "        print(d1)\n",
    "        print(\"Update queue\\n\")\n",
    "        print(q1)\n",
    "    return d1\n",
    "\n",
    "#graph as an input\n",
    "distances = {'Wakad':{'Aundh':10, 'Baner': 30, 'Shivaji Nagar': 100},\n",
    "             'Aundh':{'Chinchwad':50},\n",
    "             'Chinchwad':{'Shivaji Nagar': 10},\n",
    "             'Baner':{'Shivaji Nagar':60, 'Chinchwad':20},\n",
    "             'Shivaji Nagar':{}\n",
    "            }\n",
    "start='Wakad'\n",
    "dijkshtra(distances, start) #function called"
   ]
  },
  {
   "cell_type": "code",
   "execution_count": 5,
   "metadata": {},
   "outputs": [
    {
     "name": "stdout",
     "output_type": "stream",
     "text": [
      "P\n",
      "r\n",
      "a\n",
      "h\n",
      "a\n",
      "m\n"
     ]
    }
   ],
   "source": [
    "str1='Pratham'\n",
    "for i in str1:\n",
    "    if(i=='t'):\n",
    "        continue\n",
    "    print(i)"
   ]
  }
 ],
 "metadata": {
  "kernelspec": {
   "display_name": "Python 3",
   "language": "python",
   "name": "python3"
  },
  "language_info": {
   "codemirror_mode": {
    "name": "ipython",
    "version": 3
   },
   "file_extension": ".py",
   "mimetype": "text/x-python",
   "name": "python",
   "nbconvert_exporter": "python",
   "pygments_lexer": "ipython3",
   "version": "3.12.5"
  }
 },
 "nbformat": 4,
 "nbformat_minor": 2
}
