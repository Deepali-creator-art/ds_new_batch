{
 "cells": [
  {
   "cell_type": "code",
   "execution_count": 12,
   "metadata": {},
   "outputs": [
    {
     "data": {
      "text/plain": [
       "[1, 5, 6, 9, 10, 12]"
      ]
     },
     "execution_count": 12,
     "metadata": {},
     "output_type": "execute_result"
    }
   ],
   "source": [
    "def heapify(arr,n,i):\n",
    "    parent=i #parent index number\n",
    "    left_child=2*i+1 #left child index number \n",
    "    right_child=2*i+2 #right child index number\n",
    "    if left_child<n and arr[i]<arr[left_child]:\n",
    "        parent=left_child\n",
    "    if right_child<n and arr[parent]<arr[right_child]:\n",
    "        parent=right_child\n",
    "    if parent!=i:\n",
    "        arr[i],arr[parent]=arr[parent],arr[i]\n",
    "        heapify(arr,n,parent)   \n",
    "def heapsort(arrays):\n",
    "    n=len(arrays) #n is a number of elements\n",
    "    for i in range(n//2-1,-1,-1):\n",
    "        heapify(arrays,n,i)\n",
    "    for i in range(n-1,0,-1):\n",
    "        arrays[i],arrays[0]=arrays[0],arrays[i]\n",
    "        heapify(arrays,i,0)\n",
    "    return arrays\n",
    "numbers=[1,12,9,5,6,10]\n",
    "heapsort(numbers)"
   ]
  },
  {
   "cell_type": "code",
   "execution_count": 3,
   "metadata": {},
   "outputs": [
    {
     "data": {
      "text/plain": [
       "[1, 5, 6, 9, 10, 12]"
      ]
     },
     "execution_count": 3,
     "metadata": {},
     "output_type": "execute_result"
    }
   ],
   "source": [
    "def heapify(arr,n,i):\n",
    "    largest=i\n",
    "    l=2*i+1\n",
    "    r=2*i+2\n",
    "    if l<n and arr[i]<arr[l]:\n",
    "        largest=l\n",
    "    if r<n and arr[r]>arr[largest]:\n",
    "        largest=r\n",
    "    if largest!=i:\n",
    "        arr[i],arr[largest]=arr[largest],arr[i] \n",
    "        heapify(arr,n,largest)\n",
    "    \n",
    "def heapsort(arr):\n",
    "    n=len(arr)\n",
    "    for i in range(n//2-1,-1,-1):\n",
    "        heapify(arr,n,i)\n",
    "    for i in range(n-1,0,-1):\n",
    "        arr[0],arr[i]=arr[i],arr[0]\n",
    "        heapify(arr,i,0)\n",
    "    return arr\n",
    "data=[1,12,9,5,6,10]\n",
    "heapsort(data)    "
   ]
  }
 ],
 "metadata": {
  "kernelspec": {
   "display_name": "Python 3",
   "language": "python",
   "name": "python3"
  },
  "language_info": {
   "codemirror_mode": {
    "name": "ipython",
    "version": 3
   },
   "file_extension": ".py",
   "mimetype": "text/x-python",
   "name": "python",
   "nbconvert_exporter": "python",
   "pygments_lexer": "ipython3",
   "version": "3.12.4"
  }
 },
 "nbformat": 4,
 "nbformat_minor": 2
}
