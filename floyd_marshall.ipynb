{
 "cells": [
  {
   "cell_type": "code",
   "execution_count": 1,
   "metadata": {},
   "outputs": [
    {
     "name": "stdout",
     "output_type": "stream",
     "text": [
      "Total no of vertices 4\n",
      "[[0, 9, -4, 999], [6, 0, 2, 2], [999, 5, 0, 999], [999, 999, 1, 0]]\n",
      "[[0, 9, -4, 11], [6, 0, 2, 2], [11, 5, 0, 7], [999, 999, 1, 0]]\n",
      "[[0, 1, -4, 3], [6, 0, 2, 2], [11, 5, 0, 7], [12, 6, 1, 0]]\n",
      "[[0, 1, -4, 3], [6, 0, 2, 2], [11, 5, 0, 7], [12, 6, 1, 0]]\n"
     ]
    },
    {
     "data": {
      "text/plain": [
       "[[0, 1, -4, 3], [6, 0, 2, 2], [11, 5, 0, 7], [12, 6, 1, 0]]"
      ]
     },
     "execution_count": 1,
     "metadata": {},
     "output_type": "execute_result"
    }
   ],
   "source": [
    "#greedy approach method =>Aim of this algorithm to find unknown \n",
    "# vertices distance\n",
    "def floyd_warshall(graph):\n",
    "    vertices=len(graph) #total no of vertices\n",
    "    print(\"Total no of vertices\",vertices)\n",
    "    for k in range(vertices): # row 0,1,2,3\n",
    "        for i in range(vertices): #column 0,1,2,3\n",
    "            for j in range(vertices): #select matrix value from a graph 0,1,2,3\n",
    "                graph[i][j]=min(graph[i][j],(graph[i][k]+graph[k][j]))\n",
    "                \n",
    "        print(graph)\n",
    "    return graph                \n",
    "INF=999\n",
    "graph=[[0,9,-4,INF],\n",
    "       [6,0,INF,2],\n",
    "       [INF,5,0,INF],\n",
    "       [INF,INF,1,0]]\n",
    "floyd_warshall(graph)"
   ]
  }
 ],
 "metadata": {
  "kernelspec": {
   "display_name": "Python 3",
   "language": "python",
   "name": "python3"
  },
  "language_info": {
   "codemirror_mode": {
    "name": "ipython",
    "version": 3
   },
   "file_extension": ".py",
   "mimetype": "text/x-python",
   "name": "python",
   "nbconvert_exporter": "python",
   "pygments_lexer": "ipython3",
   "version": "3.12.5"
  }
 },
 "nbformat": 4,
 "nbformat_minor": 2
}
