{
 "cells": [
  {
   "cell_type": "code",
   "execution_count": 11,
   "metadata": {},
   "outputs": [
    {
     "name": "stdout",
     "output_type": "stream",
     "text": [
      "Sorted activities are [(3, 5), (0, 6), (1, 7), (5, 7), (8, 9), (5, 9)]\n",
      "Final activity selection is [(3, 5), (5, 7), (8, 9)]\n"
     ]
    }
   ],
   "source": [
    "#Greedy approach method \n",
    "def activity_selection_act(activities):\n",
    "    #sort the list depends on stop time\n",
    "    activities.sort(key=lambda x:x[1])\n",
    "    print(\"Sorted activities are\",activities)\n",
    "    selected_activities=[]\n",
    "    previous_task_end_time=0\n",
    "    for task in activities:\n",
    "        start_time,stop_time=task\n",
    "        if start_time>=previous_task_end_time:\n",
    "            selected_activities.append(task)\n",
    "            previous_task_end_time=stop_time\n",
    "    return selected_activities\n",
    "    \n",
    "activities=[(1, 7), (3, 5), (0, 6), (5, 7), (8, 9), (5, 9)]\n",
    "final_act_selection=activity_selection_act(activities)\n",
    "print(\"Final activity selection is\",final_act_selection)"
   ]
  }
 ],
 "metadata": {
  "kernelspec": {
   "display_name": "Python 3",
   "language": "python",
   "name": "python3"
  },
  "language_info": {
   "codemirror_mode": {
    "name": "ipython",
    "version": 3
   },
   "file_extension": ".py",
   "mimetype": "text/x-python",
   "name": "python",
   "nbconvert_exporter": "python",
   "pygments_lexer": "ipython3",
   "version": "3.12.5"
  }
 },
 "nbformat": 4,
 "nbformat_minor": 2
}
