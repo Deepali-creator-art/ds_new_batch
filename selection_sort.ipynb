{
 "cells": [
  {
   "cell_type": "code",
   "execution_count": 3,
   "metadata": {},
   "outputs": [
    {
     "name": "stdout",
     "output_type": "stream",
     "text": [
      "Resulting list of iteration 0 ,[2, 12, 10, 15, 20]\n",
      "Resulting list of iteration 1 ,[2, 10, 12, 15, 20]\n",
      "Resulting list of iteration 2 ,[2, 10, 12, 15, 20]\n",
      "Resulting list of iteration 3 ,[2, 10, 12, 15, 20]\n",
      "Resulting list of iteration 4 ,[2, 10, 12, 15, 20]\n"
     ]
    },
    {
     "data": {
      "text/plain": [
       "[2, 10, 12, 15, 20]"
      ]
     },
     "execution_count": 3,
     "metadata": {},
     "output_type": "execute_result"
    }
   ],
   "source": [
    "#input list/tuple\n",
    "def selection_sort(array,size):\n",
    "    #outer loop for algorithm iteration\n",
    "    for step in range(size):\n",
    "        min_index=step\n",
    "        for j in range(step+1,size):\n",
    "            if(array[j]<array[min_index]):\n",
    "                min_index=j\n",
    "        array[step],array[min_index]=array[min_index],array[step]\n",
    "        \n",
    "        print(f\"Resulting list of iteration {step} ,{array}\")\n",
    "    return array\n",
    "data=[20,12,10,15,2]\n",
    "size=len(data)\n",
    "selection_sort(data,size) #function call with parameter input list and size of list"
   ]
  }
 ],
 "metadata": {
  "kernelspec": {
   "display_name": "Python 3",
   "language": "python",
   "name": "python3"
  },
  "language_info": {
   "codemirror_mode": {
    "name": "ipython",
    "version": 3
   },
   "file_extension": ".py",
   "mimetype": "text/x-python",
   "name": "python",
   "nbconvert_exporter": "python",
   "pygments_lexer": "ipython3",
   "version": "3.12.4"
  }
 },
 "nbformat": 4,
 "nbformat_minor": 2
}
