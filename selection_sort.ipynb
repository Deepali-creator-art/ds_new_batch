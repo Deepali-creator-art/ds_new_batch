{
 "cells": [
  {
   "cell_type": "markdown",
   "metadata": {},
   "source": [
    "selection_sort(array)\n",
    "    for i->sizeofarray\n",
    "       for j from i+1 to sizeofarray-1 \n",
    "            if array[current_minimum]>array[j]\n",
    "                 set j as the current minimum index \n",
    "            if current minimum is not i\n",
    "                swap array[i] with array[current minimum]\n",
    "\n",
    "                "
   ]
  },
  {
   "cell_type": "code",
   "execution_count": 14,
   "metadata": {},
   "outputs": [
    {
     "name": "stdout",
     "output_type": "stream",
     "text": [
      "[12, 56, 78, 1, 4, 5, 8, 9, 10]\n",
      "[12, 56, 78, 1, 4, 5, 8, 9, 10]\n",
      "[12, 56, 78, 1, 4, 5, 8, 9, 10]\n",
      "[12, 56, 78, 1, 4, 5, 8, 9, 10]\n",
      "[12, 56, 78, 1, 4, 5, 8, 9, 10]\n",
      "[12, 56, 78, 1, 4, 5, 8, 9, 10]\n",
      "[12, 56, 78, 1, 4, 5, 8, 9, 10]\n",
      "[12, 56, 78, 1, 4, 5, 8, 9, 10]\n",
      "1 12\n",
      "[1, 56, 78, 12, 4, 5, 8, 9, 10]\n",
      "[1, 56, 78, 12, 4, 5, 8, 9, 10]\n",
      "[1, 56, 78, 12, 4, 5, 8, 9, 10]\n",
      "[1, 56, 78, 12, 4, 5, 8, 9, 10]\n",
      "[1, 56, 78, 12, 4, 5, 8, 9, 10]\n",
      "[1, 56, 78, 12, 4, 5, 8, 9, 10]\n",
      "[1, 56, 78, 12, 4, 5, 8, 9, 10]\n",
      "4 56\n",
      "[1, 4, 78, 12, 56, 5, 8, 9, 10]\n",
      "[1, 4, 78, 12, 56, 5, 8, 9, 10]\n",
      "[1, 4, 78, 12, 56, 5, 8, 9, 10]\n",
      "[1, 4, 78, 12, 56, 5, 8, 9, 10]\n",
      "[1, 4, 78, 12, 56, 5, 8, 9, 10]\n",
      "[1, 4, 78, 12, 56, 5, 8, 9, 10]\n",
      "5 78\n",
      "[1, 4, 5, 12, 56, 78, 8, 9, 10]\n",
      "[1, 4, 5, 12, 56, 78, 8, 9, 10]\n",
      "[1, 4, 5, 12, 56, 78, 8, 9, 10]\n",
      "[1, 4, 5, 12, 56, 78, 8, 9, 10]\n",
      "[1, 4, 5, 12, 56, 78, 8, 9, 10]\n",
      "8 12\n",
      "[1, 4, 5, 8, 56, 78, 12, 9, 10]\n",
      "[1, 4, 5, 8, 56, 78, 12, 9, 10]\n",
      "[1, 4, 5, 8, 56, 78, 12, 9, 10]\n",
      "[1, 4, 5, 8, 56, 78, 12, 9, 10]\n",
      "9 56\n",
      "[1, 4, 5, 8, 9, 78, 12, 56, 10]\n",
      "[1, 4, 5, 8, 9, 78, 12, 56, 10]\n",
      "[1, 4, 5, 8, 9, 78, 12, 56, 10]\n",
      "10 78\n",
      "[1, 4, 5, 8, 9, 10, 12, 56, 78]\n",
      "[1, 4, 5, 8, 9, 10, 12, 56, 78]\n",
      "12 12\n",
      "[1, 4, 5, 8, 9, 10, 12, 56, 78]\n",
      "56 56\n",
      "78 78\n",
      "45.03433346748352\n",
      "Sorted array is [1, 4, 5, 8, 9, 10, 12, 56, 78]\n"
     ]
    }
   ],
   "source": [
    "import time\n",
    "def selection_sort(data):\n",
    "    for i in range(len(data)): # n times\n",
    "        time.sleep(1)\n",
    "        min_element=i\n",
    "        for j in range(i+1,len(data)): #n-1 n*(n-1)=>n**2-1\n",
    "            time.sleep(1)\n",
    "            if data[min_element]>data[j]:\n",
    "                min_element=j\n",
    "            print(data)\n",
    "        print(data[min_element],data[i])\n",
    "        data[i],data[min_element]=data[min_element],data[i]       \n",
    "data=[12,56,78,1,4,5,8,9,10]\n",
    "start_time=time.time()\n",
    "selection_sort(data)\n",
    "stop_time=time.time()\n",
    "print(stop_time-start_time)\n",
    "print(\"Sorted array is\",data)\n"
   ]
  },
  {
   "cell_type": "markdown",
   "metadata": {},
   "source": [
    "Best case time complexity=>O(n**2)=>already in sorted array \n",
    "Worst case time complexity=>O(n**2)=>descending order=>ascending order\n",
    "Average case time complexity=>O(n**2)=>array are in jumpled order \n",
    "Space complexity =>minimum index stored =>O(1)\n"
   ]
  }
 ],
 "metadata": {
  "kernelspec": {
   "display_name": "Python 3",
   "language": "python",
   "name": "python3"
  },
  "language_info": {
   "codemirror_mode": {
    "name": "ipython",
    "version": 3
   },
   "file_extension": ".py",
   "mimetype": "text/x-python",
   "name": "python",
   "nbconvert_exporter": "python",
   "pygments_lexer": "ipython3",
   "version": "3.12.5"
  }
 },
 "nbformat": 4,
 "nbformat_minor": 2
}
