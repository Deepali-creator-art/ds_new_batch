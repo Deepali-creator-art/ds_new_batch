{
 "cells": [
  {
   "cell_type": "code",
   "execution_count": 30,
   "metadata": {},
   "outputs": [
    {
     "name": "stdout",
     "output_type": "stream",
     "text": [
      "6\n",
      "6\n",
      "[[0, 0, 0, 0, 0, 0, 0], [0, 0, 0, 0, 0, 0, 0], [0, 0, 0, 0, 0, 0, 0], [0, 0, 0, 0, 0, 0, 0], [0, 0, 0, 0, 0, 0, 0], [0, 0, 0, 0, 0, 0, 0], [0, 0, 0, 0, 0, 0, 0]]\n",
      "4\n",
      "['', '', '', '']\n",
      "a\n",
      "['', '', '', 'a']\n",
      "b\n",
      "['', '', 'b', 'a']\n",
      "a\n",
      "['', 'a', 'b', 'a']\n",
      "b\n",
      "['b', 'a', 'b', 'a']\n",
      "S1 : abaaba\n",
      "S2 : babbab\n",
      "LCS: baba\n"
     ]
    },
    {
     "data": {
      "text/plain": [
       "[[0, 0, 0, 0, 0, 0, 0],\n",
       " [0, 0, 1, 1, 1, 1, 1],\n",
       " [0, 1, 1, 2, 2, 2, 2],\n",
       " [0, 1, 2, 2, 2, 3, 3],\n",
       " [0, 1, 2, 2, 2, 3, 3],\n",
       " [0, 1, 2, 3, 3, 3, 4],\n",
       " [0, 1, 2, 3, 3, 4, 4]]"
      ]
     },
     "execution_count": 30,
     "metadata": {},
     "output_type": "execute_result"
    }
   ],
   "source": [
    "def longest_subsequence(str1,str2):\n",
    "    #count total no of elements\n",
    "    s1=len(str1)\n",
    "    print(s1)\n",
    "    s2=len(str2)\n",
    "    print(s2)\n",
    "    c=[[0 for j in range(s2+1)] for i in range(s1+1)]\n",
    "    print(c)\n",
    "    for i in range(1,s1+1): #0,1,2,3,4,5\n",
    "        for j in range(1,s2+1): #0,1,2,3,4,5\n",
    "            if(str1[i-1]==str2[j-1]):\n",
    "                c[i][j]=1+c[i-1][j-1]\n",
    "            else:\n",
    "                c[i][j]=max(c[i-1][j],c[i][j-1])\n",
    "    \n",
    "    \n",
    "    index = c[i][j]\n",
    "    print(index)\n",
    "    m = i # m=6\n",
    "    n = j  #n=6\n",
    "    lcs_algo = [\"\"] * (index)\n",
    "    print(lcs_algo)\n",
    "    while m > 0 and n > 0:\n",
    "        if str1[m-1] == str2[n-1]:\n",
    "            print(str1[m-1])\n",
    "            lcs_algo[index-1] = str1[m-1]\n",
    "            print(lcs_algo)\n",
    "            m -= 1\n",
    "            n -= 1\n",
    "            index -= 1\n",
    "\n",
    "        elif c[m-1][n] > c[m][n-1]:\n",
    "            m -= 1\n",
    "        else:\n",
    "            n -= 1          \n",
    "    # Printing the sub sequences\n",
    "    print(\"S1 : \" + str1 + \"\\nS2 : \" + str2)\n",
    "    print(\"LCS: \" + \"\".join(lcs_algo))\n",
    "    return c \n",
    "    \n",
    "x='abaaba'\n",
    "y='babbab'\n",
    "longest_subsequence(x,y)"
   ]
  }
 ],
 "metadata": {
  "kernelspec": {
   "display_name": "Python 3",
   "language": "python",
   "name": "python3"
  },
  "language_info": {
   "codemirror_mode": {
    "name": "ipython",
    "version": 3
   },
   "file_extension": ".py",
   "mimetype": "text/x-python",
   "name": "python",
   "nbconvert_exporter": "python",
   "pygments_lexer": "ipython3",
   "version": "3.12.5"
  }
 },
 "nbformat": 4,
 "nbformat_minor": 2
}
