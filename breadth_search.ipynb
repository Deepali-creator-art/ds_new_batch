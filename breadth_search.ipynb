{
 "cells": [
  {
   "cell_type": "code",
   "execution_count": null,
   "metadata": {},
   "outputs": [],
   "source": [
    "import collections\n",
    "\n",
    "# BFS algorithm\n",
    "def bfs(graph, root):\n",
    "\n",
    "    visited, queue = set(), collections.deque([root])\n",
    "    visited.add(root)\n",
    "\n",
    "    while queue:\n",
    "\n",
    "        # Dequeue a vertex from queue\n",
    "        vertex = queue.popleft()\n",
    "        print(str(vertex) + \" \", end=\"\")\n",
    "\n",
    "        # If not visited, mark it as visited, and\n",
    "        # enqueue it\n",
    "        for neighbour in graph[vertex]:\n",
    "            if neighbour not in visited:\n",
    "                visited.add(neighbour)\n",
    "                queue.append(neighbour)\n",
    "\n",
    "\n",
    "if __name__ == '__main__':\n",
    "    graph = {0: [1, 2], 1: [2], 2: [3], 3: [1, 2]}\n",
    "    print(\"Following is Breadth First Traversal: \")\n",
    "    bfs(graph, 0)\n"
   ]
  },
  {
   "cell_type": "code",
   "execution_count": 7,
   "metadata": {},
   "outputs": [
    {
     "name": "stdout",
     "output_type": "stream",
     "text": [
      "deque(['pratiksha'])\n",
      "deque(['pratiksha', 'pratham'])\n",
      "deque(['pratiksha'])\n",
      "deque(['pratiksha', 'pratham'])\n",
      "pratiksha\n",
      "deque(['pratham'])\n"
     ]
    }
   ],
   "source": [
    "#program for queue structure\n",
    "from collections import deque\n",
    "d1=deque() # d1 is an object of queue\n",
    "d1.append('pratiksha') #insert element into a queue\n",
    "print(d1)\n",
    "d1.append('pratham') #insert element into a queue\n",
    "print(d1)\n",
    "d1.pop() #to remove element last one element\n",
    "print(d1)\n",
    "d1.append('pratham') #insert element into a queue\n",
    "print(d1)\n",
    "x=d1.popleft() #to remve first one element and store into a variable.\n",
    "print(x)\n",
    "print(d1)\n"
   ]
  },
  {
   "cell_type": "code",
   "execution_count": 25,
   "metadata": {},
   "outputs": [
    {
     "name": "stdout",
     "output_type": "stream",
     "text": [
      "{0}\n",
      "Vertex 0\n",
      "Current vertex 0 ,their visited vertex 1\n",
      "Updated queue deque([1])\n",
      "Current vertex 0 ,their visited vertex 2\n",
      "Updated queue deque([1, 2])\n",
      "Vertex 1\n",
      "Current vertex 1 ,their visited vertex 0\n",
      "Current vertex 1 ,their visited vertex 1\n",
      "Current vertex 1 ,their visited vertex 2\n",
      "Vertex 2\n",
      "Current vertex 2 ,their visited vertex 0\n",
      "Current vertex 2 ,their visited vertex 1\n",
      "Current vertex 2 ,their visited vertex 4\n",
      "Updated queue deque([4])\n",
      "Vertex 4\n",
      "Current vertex 4 ,their visited vertex 2\n",
      "Current vertex 4 ,their visited vertex 3\n",
      "Updated queue deque([3])\n",
      "Vertex 3\n",
      "Current vertex 3 ,their visited vertex 1\n",
      "Current vertex 3 ,their visited vertex 4\n"
     ]
    },
    {
     "data": {
      "text/plain": [
       "{0, 1, 2, 3, 4}"
      ]
     },
     "execution_count": 25,
     "metadata": {},
     "output_type": "execute_result"
    }
   ],
   "source": [
    "from collections import deque\n",
    "#function for bfs algorithm\n",
    "def bfs(graph,start_node):\n",
    "    visited_vertex=set() #initialize empty set\n",
    "    queue=deque() #initialize empty queue\n",
    "    visited_vertex.add(start_node) #add start node into a set\n",
    "    print(visited_vertex)\n",
    "    queue.append(start_node)  #add start node into queue\n",
    "    #pop element from a queue\n",
    "    while queue:\n",
    "        vertex=queue.popleft()  #remove first element from a queue\n",
    "        print(\"Vertex\",vertex)\n",
    "        for neighbour in graph[vertex]: #finding visited vertex \n",
    "            print(f\"Current vertex {vertex} ,their visited vertex {neighbour}\")\n",
    "            \n",
    "            #add visited vertex into a set till queue is empty\n",
    "            if neighbour not in visited_vertex: \n",
    "                visited_vertex.add(neighbour)\n",
    "                queue.append(neighbour)\n",
    "                print(\"Updated queue\",queue)\n",
    "                \n",
    "    return visited_vertex   \n",
    "    \n",
    "    \n",
    "#define a graph for input of bfs algorithm\n",
    "graph={\n",
    "    0:[1,2],\n",
    "    1:[0,1,2],\n",
    "    2:[0,1,4],\n",
    "    3:[1,4],\n",
    "    4:[2,3]\n",
    "}\n",
    "start_node=0   #starting node of algorithm\n",
    "bfs(graph,start_node) #function call"
   ]
  },
  {
   "cell_type": "code",
   "execution_count": null,
   "metadata": {},
   "outputs": [],
   "source": []
  }
 ],
 "metadata": {
  "kernelspec": {
   "display_name": "Python 3",
   "language": "python",
   "name": "python3"
  },
  "language_info": {
   "codemirror_mode": {
    "name": "ipython",
    "version": 3
   },
   "file_extension": ".py",
   "mimetype": "text/x-python",
   "name": "python",
   "nbconvert_exporter": "python",
   "pygments_lexer": "ipython3",
   "version": "3.12.4"
  }
 },
 "nbformat": 4,
 "nbformat_minor": 2
}
