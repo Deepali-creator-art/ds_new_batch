{
 "cells": [
  {
   "cell_type": "code",
   "execution_count": 12,
   "metadata": {},
   "outputs": [
    {
     "name": "stdout",
     "output_type": "stream",
     "text": [
      "10\n",
      "None\n",
      "<__main__.Node object at 0x00000257AD38AD80> 2575591583104\n",
      "20\n",
      "None\n",
      "10 ---> 20 ----> 30\n",
      "2575591340464\n",
      "2575591583104\n",
      "2575546965152\n"
     ]
    }
   ],
   "source": [
    "class Node:\n",
    "    def __init__(self,data):\n",
    "        self.data=data #class members data and next\n",
    "        self.next=None\n",
    "n1=Node(10) #object creation and constructor call\n",
    "print(n1.data)\n",
    "print(n1.next)\n",
    "n2=Node(20)\n",
    "n1.next=n2\n",
    "print(n1.next,id(n2))\n",
    "print(n2.data)\n",
    "print(n2.next)\n",
    "n3=Node(30)\n",
    "n2.next=n3\n",
    "\n",
    "print(n1.data,\"--->\",n2.data,\"---->\",n3.data)\n",
    "print(id(n1))\n",
    "print(id(n2))\n",
    "print(id(n3))\n"
   ]
  },
  {
   "cell_type": "code",
   "execution_count": 4,
   "metadata": {},
   "outputs": [
    {
     "name": "stdout",
     "output_type": "stream",
     "text": [
      "Pratiksha--->Pratham--->Raj--->None\n"
     ]
    }
   ],
   "source": [
    "#insert node at begining\n",
    "class Node:\n",
    "    def __init__(self,data):\n",
    "        self.data=data\n",
    "        self.next=None\n",
    "class LinkedList():\n",
    "    def __init__(self):\n",
    "        self.head=None \n",
    "    def insertatbegin(self,data):\n",
    "        #call constructor of Node class + create object of constructor\n",
    "        new_node=Node(data)  \n",
    "        #if head node is empty then new node as a head node\n",
    "        if self.head is None:\n",
    "            self.head=new_node\n",
    "        # if head node is present then new node become as a head node\n",
    "        else:\n",
    "            new_node.next=self.head\n",
    "            self.head=new_node\n",
    "    def insertatend(self,data):\n",
    "        #call node constructor + create object of constructor\n",
    "        new_node=Node(data)\n",
    "        if self.head is None:\n",
    "            self.head=new_node\n",
    "        else:\n",
    "            current_node=self.head\n",
    "            while(current_node.next):\n",
    "                current_node=current_node.next\n",
    "            current_node.next=new_node\n",
    "    def insertatindex(self,data,index):\n",
    "        new_node=Node(data)\n",
    "        position=0\n",
    "        current_node=self.head\n",
    "        if(position==index):\n",
    "            self.insertatbegin(data)\n",
    "        else:\n",
    "            while(current_node!=None and position+1!=index):\n",
    "                position=position+1\n",
    "                current_node=current_node.next\n",
    "            if(current_node!=None):\n",
    "                new_node.next=current_node.next\n",
    "                current_node.next=new_node\n",
    "            else:\n",
    "                print(\"Index not present\")\n",
    "    def updateNode(self,data,index):\n",
    "        current_node=self.head\n",
    "        position = 0\n",
    "\n",
    "        if position == index:\n",
    "            current_node.data = data\n",
    "        else:\n",
    "            while(current_node != None and position != index):\n",
    "                position= position + 1\n",
    "                current_node = current_node.next\n",
    "\n",
    "            if current_node != None:\n",
    "                current_node.data = data\n",
    "            else:\n",
    "                print(\"Index not present\")\n",
    "    def pop_front(self):\n",
    "        if(self.head != None):\n",
    "            current_node = self.head\n",
    "            self.head = self.head.next \n",
    "            current_node = None \n",
    "\n",
    "        \n",
    "    def printelement(self):\n",
    "        while self.head!=None:\n",
    "            print(self.head.data,end=\"--->\")\n",
    "            self.head=self.head.next\n",
    "#create an object of linked list          \n",
    "obj=LinkedList()\n",
    "#call function\n",
    "obj.insertatbegin('Pratham')\n",
    "obj.insertatbegin('Pratiksha')\n",
    "obj.insertatend('Deepali')\n",
    "obj.insertatindex('Ganesh',0)\n",
    "obj.updateNode('Raj',3)\n",
    "obj.pop_front()\n",
    "print(obj.printelement())\n",
    "\n",
    "    "
   ]
  },
  {
   "cell_type": "code",
   "execution_count": 2,
   "metadata": {},
   "outputs": [
    {
     "name": "stdout",
     "output_type": "stream",
     "text": [
      "40\n",
      "-20\n"
     ]
    }
   ],
   "source": [
    "x=10\n",
    "y=30\n",
    "print(x+y)\n",
    "print(x-y)"
   ]
  },
  {
   "cell_type": "code",
   "execution_count": null,
   "metadata": {},
   "outputs": [],
   "source": []
  }
 ],
 "metadata": {
  "kernelspec": {
   "display_name": "Python 3",
   "language": "python",
   "name": "python3"
  },
  "language_info": {
   "codemirror_mode": {
    "name": "ipython",
    "version": 3
   },
   "file_extension": ".py",
   "mimetype": "text/x-python",
   "name": "python",
   "nbconvert_exporter": "python",
   "pygments_lexer": "ipython3",
   "version": "3.12.5"
  }
 },
 "nbformat": 4,
 "nbformat_minor": 2
}
