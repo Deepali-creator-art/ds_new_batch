{
 "cells": [
  {
   "cell_type": "code",
   "execution_count": 16,
   "metadata": {},
   "outputs": [
    {
     "name": "stdout",
     "output_type": "stream",
     "text": [
      "Reverse expression is F+D-C*)B+A(\n",
      "After the parenthesis replaced final reverse expression is F+D-C*(B+A)\n",
      "Postfix expression is  FD+CBA+*-\n",
      "Prefix expression is -*+ABC+DF\n"
     ]
    }
   ],
   "source": [
    "def infix_to_postfix(expression):\n",
    "    stack=[]\n",
    "    postfix_expression=''\n",
    "    #expression=>F+D-C*(B+A)\n",
    "    #char=>operands and operators\n",
    "    for char in expression:\n",
    "        if char not in operators:\n",
    "            postfix_expression+=char \n",
    "        elif(char=='('):\n",
    "            stack.append(char)\n",
    "        elif(char==')'):\n",
    "            while stack and stack[-1]!='(':\n",
    "                postfix_expression+=stack.pop()\n",
    "            stack.pop() # '(' discard \n",
    "        else:\n",
    "            # current operator - 1 and stack top element * 2\n",
    "            while stack and stack[-1]!='(' and precedence[char]<=precedence[stack[-1]]:\n",
    "                postfix_expression+=stack.pop()\n",
    "            stack.append(char)\n",
    "    while stack:\n",
    "        postfix_expression+=stack.pop()\n",
    "    return postfix_expression    \n",
    "expression='(A+B)*C-D+F'\n",
    "reverse_expression=expression[::-1]\n",
    "print(\"Reverse expression is\",reverse_expression)\n",
    "reverse_expression=reverse_expression.replace('(',')',1)\n",
    "reverse_expression=reverse_expression.replace(')','(',1)\n",
    "print(\"After the parenthesis replaced final reverse expression is\",reverse_expression)\n",
    "operators=set(['*','/','+','-','(',')'])\n",
    "precedence={'+':'1','-':'1','*':'2','/':'2'}\n",
    "postfix_expression=infix_to_postfix(reverse_expression) #function call\n",
    "print(\"Postfix expression is \",postfix_expression)\n",
    "prefix_expression=postfix_expression[::-1]\n",
    "print(\"Prefix expression is\",prefix_expression)"
   ]
  }
 ],
 "metadata": {
  "kernelspec": {
   "display_name": "Python 3",
   "language": "python",
   "name": "python3"
  },
  "language_info": {
   "codemirror_mode": {
    "name": "ipython",
    "version": 3
   },
   "file_extension": ".py",
   "mimetype": "text/x-python",
   "name": "python",
   "nbconvert_exporter": "python",
   "pygments_lexer": "ipython3",
   "version": "3.12.5"
  }
 },
 "nbformat": 4,
 "nbformat_minor": 2
}
