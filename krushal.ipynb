{
 "cells": [
  {
   "cell_type": "markdown",
   "metadata": {},
   "source": [
    "![null (11).png](<attachment:null (11).png>)"
   ]
  },
  {
   "cell_type": "code",
   "execution_count": 5,
   "metadata": {},
   "outputs": [
    {
     "name": "stdout",
     "output_type": "stream",
     "text": [
      "Minimum Spanning Tree: [('A', 'B', 1), ('C', 'D', 1), ('B', 'C', 2)]\n"
     ]
    }
   ],
   "source": [
    "class Graph:\n",
    "    #CONSTRUCTOR using we add one by one vertices\n",
    "    def __init__(self, vertices):\n",
    "        self.vertices = vertices\n",
    "        self.edges = []\n",
    "    #class method add_edges u and v are vertices and w is cost\n",
    "    def add_edge(self, u, v, w):\n",
    "        self.edges.append((u, v, w))\n",
    "\n",
    "    def kruskal(self):\n",
    "        self.edges.sort(key=lambda x: x[2])  # Sort edges by weight\n",
    "        minimum_spanning_tree = []\n",
    "        parent = {vertex: vertex for vertex in self.vertices}\n",
    "\n",
    "        def find(node):\n",
    "            if parent[node] != node:\n",
    "                parent[node] = find(parent[node])\n",
    "            return parent[node]\n",
    "\n",
    "        def union(node1, node2):\n",
    "            root1 = find(node1)\n",
    "            root2 = find(node2)\n",
    "            parent[root1] = root2\n",
    "\n",
    "        for edge in self.edges:\n",
    "            u, v, weight = edge\n",
    "            if find(u) != find(v):\n",
    "                union(u, v)\n",
    "                minimum_spanning_tree.append(edge)\n",
    "\n",
    "        return minimum_spanning_tree\n",
    "\n",
    "# Example usage:\n",
    "vertices = ['A', 'B', 'C', 'D']\n",
    "graph = Graph(vertices)\n",
    "graph.add_edge('A', 'B', 1)\n",
    "graph.add_edge('A', 'C', 4)\n",
    "graph.add_edge('B', 'C', 2)\n",
    "graph.add_edge('B', 'D', 5)\n",
    "graph.add_edge('C', 'D', 1)\n",
    "\n",
    "result = graph.kruskal()\n",
    "print(\"Minimum Spanning Tree:\", result)"
   ]
  },
  {
   "cell_type": "code",
   "execution_count": 1,
   "metadata": {},
   "outputs": [
    {
     "name": "stdout",
     "output_type": "stream",
     "text": [
      "Student name Pratham\n",
      "Constructor member x apple\n",
      "I am foreigner\n"
     ]
    }
   ],
   "source": [
    "class student:\n",
    "    stud_name='Pratham' #class member\n",
    "    #constructor with parameter\n",
    "    def __init__(self,x): #class method\n",
    "        print(\"Student name\",self.stud_name)\n",
    "        print(\"Constructor member x\",x)\n",
    "    #class method\n",
    "    def display(self):\n",
    "        print(\"I am foreigner\")\n",
    "s1=student('apple') #object creation + method called\n",
    "s1.display() #class method called using object\n",
    "        \n",
    "        "
   ]
  },
  {
   "cell_type": "code",
   "execution_count": 6,
   "metadata": {},
   "outputs": [
    {
     "name": "stdout",
     "output_type": "stream",
     "text": [
      "[('v1', 'v5', 2), ('v1', 'v2', 5), ('v1', 'v3', 4), ('v3', 'v5', 3), ('v4', 'v5', 1), ('v5', 'v6', 4), ('v2', 'v6', 2), ('v2', 'v4', 2), ('v1', 'v4', 6), ('v4', 'v6', 2)]\n",
      "Sorting edges are\n",
      "[('v4', 'v5', 1), ('v1', 'v5', 2), ('v2', 'v6', 2), ('v2', 'v4', 2), ('v4', 'v6', 2), ('v3', 'v5', 3), ('v1', 'v3', 4), ('v5', 'v6', 4), ('v1', 'v2', 5), ('v1', 'v4', 6)]\n",
      "Initial parent  node of every vertex\n",
      "{'v1': 'v1', 'v2': 'v2', 'v3': 'v3', 'v4': 'v4', 'v5': 'v5', 'v6': 'v6'}\n",
      "Parent node v4\n",
      "Child node v5\n",
      "{'v1': 'v1', 'v2': 'v2', 'v3': 'v3', 'v4': 'v5', 'v5': 'v5', 'v6': 'v6'}\n",
      "Mining spanning tree edges [('v4', 'v5', 1)]\n",
      "Parent node v1\n",
      "Child node v5\n",
      "{'v1': 'v5', 'v2': 'v2', 'v3': 'v3', 'v4': 'v5', 'v5': 'v5', 'v6': 'v6'}\n",
      "Mining spanning tree edges [('v4', 'v5', 1), ('v1', 'v5', 2)]\n",
      "Parent node v2\n",
      "Child node v6\n",
      "{'v1': 'v5', 'v2': 'v6', 'v3': 'v3', 'v4': 'v5', 'v5': 'v5', 'v6': 'v6'}\n",
      "Mining spanning tree edges [('v4', 'v5', 1), ('v1', 'v5', 2), ('v2', 'v6', 2)]\n",
      "Parent node v6\n",
      "Child node v5\n",
      "{'v1': 'v5', 'v2': 'v6', 'v3': 'v3', 'v4': 'v5', 'v5': 'v5', 'v6': 'v5'}\n",
      "Mining spanning tree edges [('v4', 'v5', 1), ('v1', 'v5', 2), ('v2', 'v6', 2), ('v2', 'v4', 2)]\n",
      "Parent node v3\n",
      "Child node v5\n",
      "{'v1': 'v5', 'v2': 'v6', 'v3': 'v5', 'v4': 'v5', 'v5': 'v5', 'v6': 'v5'}\n",
      "Mining spanning tree edges [('v4', 'v5', 1), ('v1', 'v5', 2), ('v2', 'v6', 2), ('v2', 'v4', 2), ('v3', 'v5', 3)]\n"
     ]
    },
    {
     "data": {
      "text/plain": [
       "[('v4', 'v5', 1),\n",
       " ('v1', 'v5', 2),\n",
       " ('v2', 'v6', 2),\n",
       " ('v2', 'v4', 2),\n",
       " ('v3', 'v5', 3)]"
      ]
     },
     "execution_count": 6,
     "metadata": {},
     "output_type": "execute_result"
    }
   ],
   "source": [
    "class Graph:\n",
    "    def __init__(self, vertices):\n",
    "        self.vertices = vertices\n",
    "        self.edges = []\n",
    "    def add_edge(self,u,v,w):\n",
    "        self.edges.append((u,v,w))\n",
    "    def krushal(self):\n",
    "        self.edges.sort(key=lambda x:x[2])\n",
    "        print(\"Sorting edges are\")\n",
    "        print(self.edges)\n",
    "        minimum_spanning_tree = []\n",
    "        parent = {vertex: vertex for vertex in self.vertices} #dictionary compression\n",
    "        print(\"Initial parent  node of every vertex\")\n",
    "        print(parent)\n",
    "        def find(node):\n",
    "            if parent[node] != node:\n",
    "                parent[node] = find(parent[node])\n",
    "            return parent[node]\n",
    "\n",
    "        def union(node1, node2):\n",
    "            root1 = find(node1)\n",
    "            root2 = find(node2)\n",
    "            parent[root1] = root2\n",
    "            print(\"Parent node\",root1)\n",
    "            print(\"Child node\",root2)\n",
    "            print(parent)\n",
    "        for edge in self.edges:\n",
    "            u, v, weight = edge\n",
    "            if find(u) != find(v):\n",
    "                union(u, v)\n",
    "                minimum_spanning_tree.append(edge)\n",
    "                print(\"Mining spanning tree edges\",minimum_spanning_tree)\n",
    "            \n",
    "        return minimum_spanning_tree\n",
    "\n",
    "         \n",
    "        \n",
    "# Example usage:\n",
    "vertices = ['v1','v2','v3','v4','v5','v6']\n",
    "graph = Graph(vertices)  #object creation \n",
    "graph.add_edge('v1','v5',2)\n",
    "graph.add_edge('v1', 'v2', 5)\n",
    "graph.add_edge('v1', 'v3', 4)\n",
    "graph.add_edge('v3', 'v5', 3)\n",
    "graph.add_edge('v4', 'v5', 1)\n",
    "graph.add_edge('v5','v6',4)\n",
    "graph.add_edge('v2','v6',2)\n",
    "graph.add_edge('v2','v4',2)\n",
    "graph.add_edge('v1','v4',6)\n",
    "graph.add_edge('v4','v6',2)\n",
    "print(graph.edges)\n",
    "graph.krushal()"
   ]
  },
  {
   "cell_type": "code",
   "execution_count": 3,
   "metadata": {},
   "outputs": [
    {
     "name": "stdout",
     "output_type": "stream",
     "text": [
      "[('Pratiksha', 67), ('Pratham', 87), ('Deepali', 89)]\n"
     ]
    }
   ],
   "source": [
    "x=[('Pratham',87),('Pratiksha',67),('Deepali',89)]\n",
    "x.sort(key=lambda x:x[1])\n",
    "print(x)"
   ]
  },
  {
   "cell_type": "markdown",
   "metadata": {},
   "source": []
  }
 ],
 "metadata": {
  "kernelspec": {
   "display_name": "Python 3",
   "language": "python",
   "name": "python3"
  },
  "language_info": {
   "codemirror_mode": {
    "name": "ipython",
    "version": 3
   },
   "file_extension": ".py",
   "mimetype": "text/x-python",
   "name": "python",
   "nbconvert_exporter": "python",
   "pygments_lexer": "ipython3",
   "version": "3.12.5"
  }
 },
 "nbformat": 4,
 "nbformat_minor": 2
}
