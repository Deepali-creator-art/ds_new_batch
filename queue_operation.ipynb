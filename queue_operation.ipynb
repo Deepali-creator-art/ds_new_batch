{
 "cells": [
  {
   "cell_type": "markdown",
   "metadata": {},
   "source": [
    "Queue is a linear data structure.\n",
    "Queue is FIFO(First In First Out)\n",
    "In queue ,when we add element into a queue is called enqueue.(rear insertion)\n",
    "In queue,when we remove element from a queue is called dequeue.(front remove)\n",
    "Front means first element of queue.\n",
    "Rear means last element of queue.\n",
    "Deque can be used both as stack and queue.\n"
   ]
  },
  {
   "cell_type": "code",
   "execution_count": 9,
   "metadata": {},
   "outputs": [
    {
     "name": "stdout",
     "output_type": "stream",
     "text": [
      "deque(['Ashutosh', 'Parag'])\n",
      "deque(['Omkar', 'Ashutosh', 'Parag'])\n",
      "deque(['Omkar', 'Ashutosh', 'Parag', 'shraddha', 'arti'])\n",
      "deque(['Aditya', 'Prathmesh', 'Omkar', 'Ashutosh', 'Parag', 'shraddha', 'arti'])\n",
      "deque(['Prathmesh', 'Omkar', 'Ashutosh', 'Parag', 'shraddha', 'arti'])\n",
      "deque(['Prathmesh', 'Omkar', 'Ashutosh', 'Parag', 'shraddha'])\n"
     ]
    }
   ],
   "source": [
    "from queue import deque \n",
    "q1=deque()\n",
    "q1.append('Ashutosh')\n",
    "q1.append('Parag')\n",
    "print(q1)\n",
    "q1.appendleft('Omkar')\n",
    "print(q1)\n",
    "q1.extend(['shraddha','arti'])\n",
    "print(q1)\n",
    "q1.extendleft(['Prathmesh','Aditya'])\n",
    "print(q1)\n",
    "q1.popleft()\n",
    "print(q1)\n",
    "q1.pop()\n",
    "print(q1)"
   ]
  },
  {
   "cell_type": "markdown",
   "metadata": {},
   "source": [
    "In queue,first in first out element index number set is -1.\n",
    "Second element index start with 0."
   ]
  },
  {
   "cell_type": "code",
   "execution_count": 26,
   "metadata": {},
   "outputs": [
    {
     "name": "stdout",
     "output_type": "stream",
     "text": [
      "<__main__.Queue object at 0x000001F23281FA40>\n",
      "3\n",
      "[None, None, None]\n",
      "[11, 22, 33]\n",
      "The queue is full\n",
      "After removing an element\n",
      "Current queue is\n",
      "22 33 \n",
      "After removing all elements from a queue\n",
      "Not single element in a queue\n"
     ]
    }
   ],
   "source": [
    "#Inpmement queue using user defined class\n",
    "class Queue:\n",
    "    def __init__(self,maxsize):\n",
    "        self.maxsize=maxsize\n",
    "        self.queue=[None]*maxsize\n",
    "        self.front=self.rear=-1\n",
    "    # -1 0 1\n",
    "    #  0 1 2\n",
    "    #add  elements into a queue\n",
    "    def enqueue(self,data):\n",
    "        if(self.rear==self.maxsize-1):\n",
    "            print(\"The queue is full\")\n",
    "            \n",
    "        elif(self.front==-1):\n",
    "            self.front=0\n",
    "            self.rear=0\n",
    "            self.queue[self.rear]=data\n",
    "        else:\n",
    "            self.rear=self.rear+1\n",
    "            self.queue[self.rear]=data\n",
    "    # delete an element from a queue\n",
    "    def dequeue(self):\n",
    "        if(self.front==-1):\n",
    "            print(\"The queue is an empty\")\n",
    "        elif(self.front==self.rear):\n",
    "            temp=self.queue[self.front]\n",
    "            self.front=-1\n",
    "            self.rear=-1\n",
    "            return temp\n",
    "        else:\n",
    "            temp=self.queue[self.front]\n",
    "            self.front=self.front+1\n",
    "            return temp\n",
    "    #print queue elements after a queue updation function\n",
    "    def display(self):\n",
    "        if(self.front==-1):\n",
    "            print(\"Not single element in a queue\")\n",
    "        else:\n",
    "            for i in range(self.front,self.rear+1):\n",
    "                print(self.queue[i],end=\" \")\n",
    "            \n",
    "    #queue[10,20]      \n",
    "        \n",
    "            \n",
    "obj=Queue(3)\n",
    "print(obj)\n",
    "print(obj.maxsize)\n",
    "print(obj.queue)\n",
    "obj.enqueue(11)\n",
    "obj.enqueue(22)\n",
    "obj.enqueue(33)\n",
    "print(obj.queue)\n",
    "obj.enqueue(44)\n",
    "obj.dequeue()\n",
    "print(\"After removing an element\")\n",
    "print(\"Current queue is\")\n",
    "obj.display()\n",
    "obj.dequeue()\n",
    "obj.dequeue()\n",
    "print(\"\\nAfter removing all elements from a queue\")\n",
    "obj.display()\n",
    "        \n",
    "    "
   ]
  },
  {
   "cell_type": "code",
   "execution_count": null,
   "metadata": {},
   "outputs": [],
   "source": []
  }
 ],
 "metadata": {
  "kernelspec": {
   "display_name": "Python 3",
   "language": "python",
   "name": "python3"
  },
  "language_info": {
   "codemirror_mode": {
    "name": "ipython",
    "version": 3
   },
   "file_extension": ".py",
   "mimetype": "text/x-python",
   "name": "python",
   "nbconvert_exporter": "python",
   "pygments_lexer": "ipython3",
   "version": "3.12.5"
  }
 },
 "nbformat": 4,
 "nbformat_minor": 2
}
