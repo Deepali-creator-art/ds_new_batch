{
 "cells": [
  {
   "cell_type": "code",
   "execution_count": 23,
   "metadata": {},
   "outputs": [
    {
     "name": "stdout",
     "output_type": "stream",
     "text": [
      "140709244883536 Ganesh 2494962322608--->2494962328896 Deepali 2494962331968--->2494962328896 Pratiksha 2494962321504--->2494962331968 Pratham 140709244883536--->"
     ]
    }
   ],
   "source": [
    "class Node:\n",
    "    def __init__(self,data):\n",
    "        self.data=data\n",
    "        self.prev=None\n",
    "        self.next=None\n",
    "class SingleLinkedList:\n",
    "    \n",
    "    def __init__(self):\n",
    "        self.head=None\n",
    "        self.tail=None\n",
    "    def insertatbegin(self,data):\n",
    "        new_node=Node(data)\n",
    "        if(self.head is None):\n",
    "            self.head=new_node\n",
    "            self.tail=new_node\n",
    "        else:\n",
    "            new_node.next=self.head\n",
    "            self.head.prev=new_node\n",
    "            self.head=new_node\n",
    "            \n",
    "    def addatposition(self,index,data):\n",
    "        new_node = Node(data)\n",
    "        current_node = self.head\n",
    "        position = 0\n",
    "\n",
    "        if position == index:\n",
    "            self.insertatbegin(data)\n",
    "        else:\n",
    "            while(current_node != None and position+1 != index):\n",
    "                position = position + 1\n",
    "                current_node = current_node.next\n",
    "            \n",
    "            if current_node != None:\n",
    "                new_node.prev = current_node\n",
    "                new_node.next = current_node.next\n",
    "                current_node.next = new_node\n",
    "    \n",
    "    def display(self):\n",
    "        if(self.head==None):\n",
    "            print(\"List is an empty\")\n",
    "            return \n",
    "        \n",
    "        current_node=self.head\n",
    "        while(current_node):\n",
    "            print(id(current_node.prev),current_node.data,id(current_node.next),end='--->')\n",
    "            current_node=current_node.next\n",
    "            \n",
    "            \n",
    "s1=SingleLinkedList()\n",
    "s1.insertatbegin('Pratham')\n",
    "s1.insertatbegin('Pratiksha')\n",
    "s1.insertatbegin('Ganesh')\n",
    "s1.addatposition(1,'Deepali')\n",
    "\n",
    "s1.display()\n",
    "\n",
    "\n"
   ]
  },
  {
   "cell_type": "code",
   "execution_count": null,
   "metadata": {},
   "outputs": [],
   "source": []
  },
  {
   "cell_type": "code",
   "execution_count": null,
   "metadata": {},
   "outputs": [],
   "source": []
  },
  {
   "cell_type": "markdown",
   "metadata": {},
   "source": []
  }
 ],
 "metadata": {
  "kernelspec": {
   "display_name": "Python 3",
   "language": "python",
   "name": "python3"
  },
  "language_info": {
   "codemirror_mode": {
    "name": "ipython",
    "version": 3
   },
   "file_extension": ".py",
   "mimetype": "text/x-python",
   "name": "python",
   "nbconvert_exporter": "python",
   "pygments_lexer": "ipython3",
   "version": "3.12.5"
  }
 },
 "nbformat": 4,
 "nbformat_minor": 2
}
