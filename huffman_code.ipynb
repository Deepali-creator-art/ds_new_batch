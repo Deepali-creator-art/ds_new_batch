{
 "cells": [
  {
   "cell_type": "code",
   "execution_count": 16,
   "metadata": {},
   "outputs": [
    {
     "name": "stdout",
     "output_type": "stream",
     "text": [
      "{'A': 4, 'B': 7, 'C': 3, 'D': 2, 'E': 4}\n",
      "dict_items([('A', 4), ('B', 7), ('C', 3), ('D', 2), ('E', 4)])\n",
      "[('B', 7), ('A', 4), ('E', 4), ('C', 3), ('D', 2)]\n",
      "D 2\n",
      "C 3\n",
      "[('B', 7), ('A', 4), ('E', 4), (<__main__.NodeTree object at 0x000001ACA757DD00>, 5)]\n",
      "[('B', 7), (<__main__.NodeTree object at 0x000001ACA757DD00>, 5), ('A', 4), ('E', 4)]\n",
      "E 4\n",
      "A 4\n",
      "[('B', 7), (<__main__.NodeTree object at 0x000001ACA757DD00>, 5), (<__main__.NodeTree object at 0x000001ACA757E420>, 8)]\n",
      "[(<__main__.NodeTree object at 0x000001ACA757E420>, 8), ('B', 7), (<__main__.NodeTree object at 0x000001ACA757DD00>, 5)]\n",
      "D C 5\n",
      "B 7\n",
      "[(<__main__.NodeTree object at 0x000001ACA757E420>, 8), (<__main__.NodeTree object at 0x000001ACA757FDA0>, 12)]\n",
      "[(<__main__.NodeTree object at 0x000001ACA757FDA0>, 12), (<__main__.NodeTree object at 0x000001ACA757E420>, 8)]\n",
      "E A 8\n",
      "D C B 12\n",
      "[(<__main__.NodeTree object at 0x000001ACA7796BA0>, 20)]\n",
      "[(<__main__.NodeTree object at 0x000001ACA7796BA0>, 20)]\n"
     ]
    },
    {
     "data": {
      "text/plain": [
       "{'E': '00', 'A': '01', 'D': '100', 'C': '101', 'B': '11'}"
      ]
     },
     "execution_count": 16,
     "metadata": {},
     "output_type": "execute_result"
    }
   ],
   "source": [
    "\n",
    "#draw a tree\n",
    "class NodeTree(object):\n",
    "\n",
    "    def __init__(self, left=None, right=None):\n",
    "        self.left = left #left function parameter convert into class member\n",
    "        self.right = right #right function parameter convert into class member\n",
    "    def children(self):\n",
    "        return (self.left, self.right)\n",
    "    \n",
    "    def nodes(self):\n",
    "        return (self.left, self.right)\n",
    "    def __str__(self):\n",
    "        return '%s %s' % (self.left, self.right)\n",
    "def huffman_code(node, left=True, binString=''):\n",
    "    if type(node) is str:\n",
    "        return {node: binString}\n",
    "    (le, r) = node.children()\n",
    "    d = dict()\n",
    "    d.update(huffman_code(le, True, binString + '0'))\n",
    "    d.update(huffman_code(r, False, binString + '1'))\n",
    "    return d\n",
    "string = 'ABBCDBCCDAABBEEEBEAB'\n",
    "#variable length huffman coding\n",
    "#calulate the frequency of individual character {'a':3}\n",
    "freq={}\n",
    "for ch in string:\n",
    "    if ch in freq:\n",
    "        freq[ch]+=1\n",
    "    else:\n",
    "        freq[ch]=1\n",
    "print(freq)\n",
    "print(freq.items())\n",
    "freq_sorted=sorted(freq.items(),key=lambda x:x[1],reverse=True)\n",
    "nodes=freq_sorted\n",
    "print(nodes)\n",
    "while(len(nodes)>1):\n",
    "    (key1,count1)=nodes[-1]\n",
    "    print(key1,count1)\n",
    "    (key2,count2)=nodes[-2]\n",
    "    print(key2,count2)\n",
    "    remaining_node=nodes[:-2]\n",
    "    node=NodeTree(key1,key2) #call constructor of nodetree\n",
    "    remaining_node.append((node,count1+count2))\n",
    "    print(remaining_node)\n",
    "    nodes=sorted(remaining_node,key=lambda x:x[1],reverse=True)  \n",
    "    print(nodes) \n",
    "huffman_code(nodes[0][0])   \n"
   ]
  },
  {
   "cell_type": "code",
   "execution_count": null,
   "metadata": {},
   "outputs": [],
   "source": []
  }
 ],
 "metadata": {
  "kernelspec": {
   "display_name": "Python 3",
   "language": "python",
   "name": "python3"
  },
  "language_info": {
   "codemirror_mode": {
    "name": "ipython",
    "version": 3
   },
   "file_extension": ".py",
   "mimetype": "text/x-python",
   "name": "python",
   "nbconvert_exporter": "python",
   "pygments_lexer": "ipython3",
   "version": "3.12.5"
  }
 },
 "nbformat": 4,
 "nbformat_minor": 2
}
