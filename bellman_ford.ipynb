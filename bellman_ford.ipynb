{
 "cells": [
  {
   "cell_type": "code",
   "execution_count": 8,
   "metadata": {},
   "outputs": [
    {
     "name": "stdout",
     "output_type": "stream",
     "text": [
      "Vertices are dict_keys(['A', 'B', 'C', 'D'])\n",
      "Initial distances {'A': inf, 'B': inf, 'C': inf, 'D': inf}\n",
      "Initial distances {'A': 0, 'B': inf, 'C': inf, 'D': inf}\n",
      "Initial predecessor are {'A': None, 'B': None, 'C': None, 'D': None}\n",
      "Graph with Final distances {'A': 0, 'B': 1, 'C': 4, 'D': 7}\n",
      "Final graph {'A': 'C', 'B': None, 'C': 'D', 'D': 'B'}\n"
     ]
    }
   ],
   "source": [
    "\n",
    "#function definition\n",
    "def bellman_ford(graph,start_vertex):\n",
    "    #vertices\n",
    "    vertices=graph.keys()\n",
    "    print(\"Vertices are\",vertices)\n",
    "    distances={v:float('inf') for v in vertices}\n",
    "    print(\"Initial distances\",distances)\n",
    "    distances[start_vertex]=0\n",
    "    print(\"Initial distances\",distances)\n",
    "    predecessor={v:None for v in vertices}\n",
    "    print(\"Initial predecessor are\",predecessor)\n",
    "    for i in range(len(vertices)-1):\n",
    "        for u in vertices:\n",
    "            for v,weight in graph[u]:\n",
    "                if distances[u]+weight<distances[v]:\n",
    "                    distances[v]=distances[u]+weight\n",
    "                    predecessor[u]=v\n",
    "    return distances,predecessor\n",
    "                \n",
    "#input is a graph\n",
    "graph={'A':[('B',2),('C',4)],\n",
    "       'B':[],\n",
    "       'C':[('D',3)],\n",
    "       'D':[('B',-6)]\n",
    "       }\n",
    "source_vertex='A'\n",
    "final_distances,final_graph=bellman_ford(graph,source_vertex) #function call\n",
    "print(\"Graph with Final distances\",final_distances)\n",
    "print(\"Final graph\",final_graph)\n",
    "\n"
   ]
  },
  {
   "cell_type": "code",
   "execution_count": null,
   "metadata": {},
   "outputs": [],
   "source": []
  }
 ],
 "metadata": {
  "kernelspec": {
   "display_name": "Python 3",
   "language": "python",
   "name": "python3"
  },
  "language_info": {
   "codemirror_mode": {
    "name": "ipython",
    "version": 3
   },
   "file_extension": ".py",
   "mimetype": "text/x-python",
   "name": "python",
   "nbconvert_exporter": "python",
   "pygments_lexer": "ipython3",
   "version": "3.12.5"
  }
 },
 "nbformat": 4,
 "nbformat_minor": 2
}
