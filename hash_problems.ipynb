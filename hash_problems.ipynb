{
 "cells": [
  {
   "cell_type": "code",
   "execution_count": 2,
   "metadata": {},
   "outputs": [
    {
     "name": "stdout",
     "output_type": "stream",
     "text": [
      "['ad', 'ae', 'af', 'bd', 'be', 'bf', 'cd', 'ce', 'cf']\n"
     ]
    }
   ],
   "source": [
    "\n",
    "def letter_combinations(digits):\n",
    "    if not digits:\n",
    "        return []\n",
    "\n",
    "    digit_to_letters = {\n",
    "        '2': 'abc', '3': 'def',\n",
    "        '4': 'ghi', '5': 'jkl', '6': 'mno',\n",
    "        '7': 'pqrs', '8': 'tuv', '9': 'wxyz'\n",
    "    }\n",
    "\n",
    "    def generate_combinations(digits, current_combination, index, result):\n",
    "        if index == len(digits):\n",
    "            result.append(current_combination)\n",
    "            return\n",
    "\n",
    "        current_digit = digits[index]\n",
    "        letters = digit_to_letters[current_digit]\n",
    "\n",
    "        for letter in letters:\n",
    "            generate_combinations(digits, current_combination + letter, index + 1, result)\n",
    "\n",
    "    result = []\n",
    "    generate_combinations(digits, '', 0, result)\n",
    "    return result\n",
    "print(letter_combinations(\"23\"))\n",
    "# Output: ['ad', 'ae', 'af', 'bd', 'be', 'bf', 'cd', 'ce', 'cf']"
   ]
  },
  {
   "cell_type": "code",
   "execution_count": 3,
   "metadata": {},
   "outputs": [
    {
     "name": "stdout",
     "output_type": "stream",
     "text": [
      "MMMDXLIX\n"
     ]
    }
   ],
   "source": [
    "def int_to_roman(num):\n",
    "    roman_numerals = {\n",
    "        1000: 'M', 900: 'CM', 500: 'D', 400: 'CD',\n",
    "        100: 'C', 90: 'XC', 50: 'L', 40: 'XL',\n",
    "        10: 'X', 9: 'IX', 5: 'V', 4: 'IV',\n",
    "        1: 'I'\n",
    "    }\n",
    "    result = ''\n",
    "    for value, symbol in roman_numerals.items():\n",
    "        while num >= value:\n",
    "            result += symbol\n",
    "            num -= value\n",
    "    return result\n",
    "print(int_to_roman(3549))  # Output: MMMDXLIX"
   ]
  },
  {
   "cell_type": "code",
   "execution_count": 6,
   "metadata": {},
   "outputs": [
    {
     "name": "stdout",
     "output_type": "stream",
     "text": [
      "defaultdict(<class 'list'>, {})\n",
      "defaultdict(<class 'list'>, {'aet': ['eat', 'tea', 'ate'], 'ant': ['tan', 'nat'], 'abt': ['bat']})\n",
      "[['eat', 'tea', 'ate'], ['tan', 'nat'], ['bat']]\n"
     ]
    }
   ],
   "source": [
    "#Input: strs = [\"eat\",\"tea\",\"tan\",\"ate\",\"nat\",\"bat\"]\n",
    "#Output: [[\"bat\"],[\"nat\",\"tan\"],[\"ate\",\"eat\",\"tea\"]]\n",
    "from collections import defaultdict\n",
    "\n",
    "def group_anagrams(strs):\n",
    "    anagram_groups = defaultdict(list)\n",
    "    print(anagram_groups)\n",
    "    \n",
    "    for s in strs:\n",
    "        sorted_s = ''.join(sorted(s))\n",
    "        anagram_groups[sorted_s].append(s)\n",
    "    print(anagram_groups)\n",
    "    return list(anagram_groups.values())\n",
    "\n",
    "# Example usage:\n",
    "strs = [\"eat\", \"tea\", \"tan\", \"ate\", \"nat\", \"bat\"]\n",
    "print(group_anagrams(strs))"
   ]
  },
  {
   "cell_type": "code",
   "execution_count": 8,
   "metadata": {},
   "outputs": [
    {
     "name": "stdout",
     "output_type": "stream",
     "text": [
      "aet\n"
     ]
    }
   ],
   "source": [
    "s=''.join(sorted('eat'))\n",
    "print(s)"
   ]
  },
  {
   "cell_type": "code",
   "execution_count": 9,
   "metadata": {},
   "outputs": [
    {
     "data": {
      "text/plain": [
       "['a', 'e', 't']"
      ]
     },
     "execution_count": 9,
     "metadata": {},
     "output_type": "execute_result"
    }
   ],
   "source": [
    "sorted('eat')"
   ]
  },
  {
   "cell_type": "code",
   "execution_count": 7,
   "metadata": {},
   "outputs": [
    {
     "data": {
      "text/plain": [
       "[0, 1]"
      ]
     },
     "execution_count": 7,
     "metadata": {},
     "output_type": "execute_result"
    }
   ],
   "source": [
    "def two_sum(nums, target):\n",
    "    seen = {}  # HashMap to store elements and their indices\n",
    "    for i, num in enumerate(nums):\n",
    "        complement = target - num\n",
    "        if complement in seen:\n",
    "            return [seen[complement], i]\n",
    "        seen[num] = i\n",
    "two_sum([2,7,11,15],9)"
   ]
  }
 ],
 "metadata": {
  "kernelspec": {
   "display_name": "Python 3",
   "language": "python",
   "name": "python3"
  },
  "language_info": {
   "codemirror_mode": {
    "name": "ipython",
    "version": 3
   },
   "file_extension": ".py",
   "mimetype": "text/x-python",
   "name": "python",
   "nbconvert_exporter": "python",
   "pygments_lexer": "ipython3",
   "version": "3.12.4"
  }
 },
 "nbformat": 4,
 "nbformat_minor": 2
}
