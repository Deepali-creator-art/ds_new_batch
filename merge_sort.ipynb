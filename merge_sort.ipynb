{
 "cells": [
  {
   "cell_type": "code",
   "execution_count": 3,
   "metadata": {},
   "outputs": [
    {
     "name": "stdout",
     "output_type": "stream",
     "text": [
      "Sorted Array is [1, 5, 6, 9, 10, 12]\n"
     ]
    }
   ],
   "source": [
    "def mergesort(A):\n",
    "    if len(A)>1:\n",
    "        #divide array into subarray\n",
    "        q=len(A)//2\n",
    "        left_side=A[:q]\n",
    "        right_side=A[q:]\n",
    "        mergesort(left_side)\n",
    "        mergesort(right_side)\n",
    "        b=c=d=0\n",
    "        while b<len(left_side) and c<len(right_side):\n",
    "            if left_side[b]<right_side[c]:\n",
    "                A[d]=left_side[b]\n",
    "                b+=1\n",
    "            else:\n",
    "                A[d]=right_side[c]\n",
    "                c+=1\n",
    "            d+=1\n",
    "        while b<len(left_side):\n",
    "            A[d]=left_side[b]\n",
    "            b+=1\n",
    "            d+=1\n",
    "        while c<len(right_side):\n",
    "            A[d]=right_side[c]\n",
    "            c+=1\n",
    "            d+=1\n",
    "    return A\n",
    "    \n",
    "A=[6,5,12,10,9,1]\n",
    "sorted_array=mergesort(A)\n",
    "print(\"Sorted Array is\",sorted_array)"
   ]
  }
 ],
 "metadata": {
  "kernelspec": {
   "display_name": "Python 3",
   "language": "python",
   "name": "python3"
  },
  "language_info": {
   "codemirror_mode": {
    "name": "ipython",
    "version": 3
   },
   "file_extension": ".py",
   "mimetype": "text/x-python",
   "name": "python",
   "nbconvert_exporter": "python",
   "pygments_lexer": "ipython3",
   "version": "3.12.4"
  }
 },
 "nbformat": 4,
 "nbformat_minor": 2
}
