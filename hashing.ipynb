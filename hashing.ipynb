{
 "cells": [
  {
   "cell_type": "code",
   "execution_count": 25,
   "metadata": {},
   "outputs": [
    {
     "name": "stdout",
     "output_type": "stream",
     "text": [
      "[[], [], [], [], [], [], [], [], [], []]\n",
      "749\n",
      "9\n",
      "967\n",
      "7\n",
      "724\n",
      "4\n",
      "432\n",
      "2\n",
      "317\n",
      "7\n",
      "Index number 0\n",
      "Element pratiksha\n",
      "[[], [], ['arti'], [], ['deepali'], [], [], ['pratiksha', 'raj'], [], ['pratham']]\n"
     ]
    }
   ],
   "source": [
    "#linear probing algorithm\n",
    "class hash_table:\n",
    "    def __init__(self):\n",
    "        self.MAX = 10\n",
    "        self.arr = [[] for i in range(self.MAX)]\n",
    "    def get_hash(self,key):\n",
    "        hash = 0\n",
    "        for char in key:\n",
    "            hash += ord(char)\n",
    "        print(hash)\n",
    "        return hash % 10\n",
    "    def setitem(self,key):\n",
    "        index=self.get_hash(key)\n",
    "        print(index)\n",
    "        found = False\n",
    "        for idx, element in enumerate(self.arr[index]):\n",
    "            print(\"Index number\",idx)\n",
    "            print(\"Element\",element)\n",
    "            \n",
    "            if len(element)==1 and element == key:\n",
    "                self.arr[index] = key\n",
    "                found = True\n",
    "        if not found:\n",
    "            self.arr[index].append(key) \n",
    "h1=hash_table()\n",
    "print(h1.arr)\n",
    "h1.setitem('pratham')\n",
    "h1.setitem('pratiksha')\n",
    "h1.setitem('deepali')\n",
    "h1.setitem('arti')\n",
    "h1.setitem('raj')\n",
    "print(h1.arr)\n",
    "\n",
    "\n",
    "    \n",
    "    \n"
   ]
  },
  {
   "cell_type": "code",
   "execution_count": 37,
   "metadata": {},
   "outputs": [
    {
     "name": "stdout",
     "output_type": "stream",
     "text": [
      "[None, None, None, None, None, None, None, None, None, None]\n",
      "9\n",
      "7\n",
      "7\n",
      "6\n",
      "[None, None, None, None, None, None, 'rani', 'pratiksha', 'raj', 'pratham']\n"
     ]
    }
   ],
   "source": [
    "# Linear collision Method\n",
    "class HashTable:\n",
    "    def __init__(self):\n",
    "        self.MAX = 10\n",
    "        self.arr = [None] * self.MAX\n",
    "\n",
    "    def get_hash(self, key):\n",
    "        hash = 0\n",
    "        for char in key:\n",
    "            hash += ord(char)\n",
    "        return hash % self.MAX\n",
    "\n",
    "    def setitem(self, key):\n",
    "        index = self.get_hash(key)\n",
    "        print(index)\n",
    "        while self.arr[index] is not None:\n",
    "            if self.arr[index] == key:\n",
    "                break\n",
    "            index = (index + 1) % self.MAX\n",
    "        self.arr[index] = key\n",
    "\n",
    "h1 = HashTable()\n",
    "print(h1.arr)\n",
    "h1.setitem('pratham')\n",
    "h1.setitem('pratiksha')\n",
    "h1.setitem('raj')\n",
    "h1.setitem('rani')\n",
    "print(h1.arr)"
   ]
  },
  {
   "cell_type": "code",
   "execution_count": null,
   "metadata": {},
   "outputs": [],
   "source": []
  }
 ],
 "metadata": {
  "kernelspec": {
   "display_name": "Python 3",
   "language": "python",
   "name": "python3"
  },
  "language_info": {
   "codemirror_mode": {
    "name": "ipython",
    "version": 3
   },
   "file_extension": ".py",
   "mimetype": "text/x-python",
   "name": "python",
   "nbconvert_exporter": "python",
   "pygments_lexer": "ipython3",
   "version": "3.12.5"
  }
 },
 "nbformat": 4,
 "nbformat_minor": 2
}
