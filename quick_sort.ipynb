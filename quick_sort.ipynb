{
 "cells": [
  {
   "cell_type": "code",
   "execution_count": 1,
   "metadata": {},
   "outputs": [
    {
     "data": {
      "text/plain": [
       "[2, 7, 9, 11, 15, 28, 29]"
      ]
     },
     "execution_count": 1,
     "metadata": {},
     "output_type": "execute_result"
    }
   ],
   "source": [
    "def swap(arr,a,b):\n",
    "    if(a!=b):\n",
    "        arr[a],arr[b]=arr[b],arr[a]\n",
    "def partition(elements,start,end):\n",
    "    pivot_index=start\n",
    "    pivot=elements[pivot_index]\n",
    "    while(start<end):\n",
    "        while(start<len(elements) and elements[start]<=pivot):\n",
    "            start+=1\n",
    "        while(elements[end]>pivot):\n",
    "            end-=1\n",
    "        if start<end:\n",
    "            swap(elements,start,end)\n",
    "    swap(elements,pivot_index,end)\n",
    "    return end       \n",
    "def quick_sort(elements,start,end):\n",
    "    if start<end:\n",
    "        pi=partition(elements,start,end) #pi is pivot partition\n",
    "        quick_sort(elements,start,pi-1)\n",
    "        quick_sort(elements,pi+1,end)\n",
    "    return elements     \n",
    "data=[11,9,29,7,2,15,28] #input parameter\n",
    "n=len(data) #n is no of elements\n",
    "quick_sort(data,0,n-1) #call a function"
   ]
  },
  {
   "cell_type": "code",
   "execution_count": null,
   "metadata": {},
   "outputs": [],
   "source": []
  }
 ],
 "metadata": {
  "kernelspec": {
   "display_name": "Python 3",
   "language": "python",
   "name": "python3"
  },
  "language_info": {
   "codemirror_mode": {
    "name": "ipython",
    "version": 3
   },
   "file_extension": ".py",
   "mimetype": "text/x-python",
   "name": "python",
   "nbconvert_exporter": "python",
   "pygments_lexer": "ipython3",
   "version": "3.12.4"
  }
 },
 "nbformat": 4,
 "nbformat_minor": 2
}
