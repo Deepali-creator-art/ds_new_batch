{
 "cells": [
  {
   "cell_type": "code",
   "execution_count": 5,
   "metadata": {},
   "outputs": [
    {
     "name": "stdout",
     "output_type": "stream",
     "text": [
      "['0']\n",
      "Visited vertex {'0'}\n",
      "Stack elements\n",
      "['3', '2', '1']\n",
      "Visited vertex {'0', '1'}\n",
      "Stack elements\n",
      "['3', '2']\n",
      "Visited vertex {'0', '1', '2'}\n",
      "Stack elements\n",
      "['3', '3', '4']\n",
      "Visited vertex {'4', '0', '1', '2'}\n",
      "Stack elements\n",
      "['3', '3']\n",
      "Visited vertex {'2', '3', '0', '4', '1'}\n",
      "Stack elements\n",
      "['3']\n"
     ]
    },
    {
     "data": {
      "text/plain": [
       "[]"
      ]
     },
     "execution_count": 5,
     "metadata": {},
     "output_type": "execute_result"
    }
   ],
   "source": [
    "def dfs_stack(graph,start_node):\n",
    "    stack=[start_node]\n",
    "    visited_node=set()\n",
    "    print(stack)\n",
    "    while stack:\n",
    "        node=stack.pop()\n",
    "        if node not in visited_node:\n",
    "            visited_node.add(node)\n",
    "            print(\"Visited vertex\",visited_node)\n",
    "            stack.extend(graph[node]-visited_node)\n",
    "            print(\"Stack elements\")\n",
    "            print(stack) \n",
    "    return stack \n",
    "    \n",
    "graph={'0':{'1','2','3'},\n",
    "       '1':{'0'},\n",
    "       '2':{'0','3','4'},\n",
    "       '3':{'0','2'},\n",
    "       '4':{'2'},\n",
    "       }\n",
    "start_node='0'\n",
    "dfs_stack(graph,start_node)"
   ]
  }
 ],
 "metadata": {
  "kernelspec": {
   "display_name": "Python 3",
   "language": "python",
   "name": "python3"
  },
  "language_info": {
   "codemirror_mode": {
    "name": "ipython",
    "version": 3
   },
   "file_extension": ".py",
   "mimetype": "text/x-python",
   "name": "python",
   "nbconvert_exporter": "python",
   "pygments_lexer": "ipython3",
   "version": "3.12.5"
  }
 },
 "nbformat": 4,
 "nbformat_minor": 2
}
